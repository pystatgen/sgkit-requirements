{
 "cells": [
  {
   "cell_type": "markdown",
   "metadata": {},
   "source": [
    "## Download VCFs"
   ]
  },
  {
   "cell_type": "code",
   "execution_count": 1,
   "metadata": {},
   "outputs": [],
   "source": [
    "!mkdir -pv data/vcf"
   ]
  },
  {
   "cell_type": "code",
   "execution_count": 2,
   "metadata": {},
   "outputs": [
    {
     "name": "stderr",
     "output_type": "stream",
     "text": [
      "File ‘ALL.chr1.phase3_shapeit2_mvncall_integrated_v5a.20130502.genotypes.vcf.gz’ already there; not retrieving.\n",
      "File ‘ALL.chr2.phase3_shapeit2_mvncall_integrated_v5a.20130502.genotypes.vcf.gz’ already there; not retrieving.\n",
      "File ‘ALL.chr3.phase3_shapeit2_mvncall_integrated_v5a.20130502.genotypes.vcf.gz’ already there; not retrieving.\n",
      "File ‘ALL.chr4.phase3_shapeit2_mvncall_integrated_v5a.20130502.genotypes.vcf.gz’ already there; not retrieving.\n",
      "File ‘ALL.chr5.phase3_shapeit2_mvncall_integrated_v5a.20130502.genotypes.vcf.gz’ already there; not retrieving.\n",
      "File ‘ALL.chr6.phase3_shapeit2_mvncall_integrated_v5a.20130502.genotypes.vcf.gz’ already there; not retrieving.\n",
      "File ‘ALL.chr7.phase3_shapeit2_mvncall_integrated_v5a.20130502.genotypes.vcf.gz’ already there; not retrieving.\n",
      "File ‘ALL.chr8.phase3_shapeit2_mvncall_integrated_v5a.20130502.genotypes.vcf.gz’ already there; not retrieving.\n",
      "File ‘ALL.chr9.phase3_shapeit2_mvncall_integrated_v5a.20130502.genotypes.vcf.gz’ already there; not retrieving.\n",
      "File ‘ALL.chr10.phase3_shapeit2_mvncall_integrated_v5a.20130502.genotypes.vcf.gz’ already there; not retrieving.\n",
      "File ‘ALL.chr11.phase3_shapeit2_mvncall_integrated_v5a.20130502.genotypes.vcf.gz’ already there; not retrieving.\n",
      "File ‘ALL.chr12.phase3_shapeit2_mvncall_integrated_v5a.20130502.genotypes.vcf.gz’ already there; not retrieving.\n",
      "File ‘ALL.chr13.phase3_shapeit2_mvncall_integrated_v5a.20130502.genotypes.vcf.gz’ already there; not retrieving.\n",
      "File ‘ALL.chr14.phase3_shapeit2_mvncall_integrated_v5a.20130502.genotypes.vcf.gz’ already there; not retrieving.\n",
      "File ‘ALL.chr15.phase3_shapeit2_mvncall_integrated_v5a.20130502.genotypes.vcf.gz’ already there; not retrieving.\n",
      "File ‘ALL.chr16.phase3_shapeit2_mvncall_integrated_v5a.20130502.genotypes.vcf.gz’ already there; not retrieving.\n",
      "File ‘ALL.chr17.phase3_shapeit2_mvncall_integrated_v5a.20130502.genotypes.vcf.gz’ already there; not retrieving.\n",
      "File ‘ALL.chr18.phase3_shapeit2_mvncall_integrated_v5a.20130502.genotypes.vcf.gz’ already there; not retrieving.\n",
      "File ‘ALL.chr19.phase3_shapeit2_mvncall_integrated_v5a.20130502.genotypes.vcf.gz’ already there; not retrieving.\n",
      "File ‘ALL.chr20.phase3_shapeit2_mvncall_integrated_v5a.20130502.genotypes.vcf.gz’ already there; not retrieving.\n",
      "File ‘ALL.chr21.phase3_shapeit2_mvncall_integrated_v5a.20130502.genotypes.vcf.gz’ already there; not retrieving.\n",
      "File ‘ALL.chr22.phase3_shapeit2_mvncall_integrated_v5a.20130502.genotypes.vcf.gz’ already there; not retrieving.\n"
     ]
    }
   ],
   "source": [
    "%%bash\n",
    "cd data/vcf\n",
    "for c in {1..22}\n",
    "do\n",
    "    wget --no-clobber ftp://ftp-trace.ncbi.nih.gov/1000genomes/ftp/release/20130502/ALL.chr${c}.phase3_shapeit2_mvncall_integrated_v5a.20130502.genotypes.vcf.gz\n",
    "done"
   ]
  },
  {
   "cell_type": "markdown",
   "metadata": {},
   "source": [
    "## Find max number of ALT alleles "
   ]
  },
  {
   "cell_type": "code",
   "execution_count": 3,
   "metadata": {},
   "outputs": [
    {
     "data": {
      "text/plain": [
       "'1.2.1'"
      ]
     },
     "execution_count": 3,
     "metadata": {},
     "output_type": "execute_result"
    }
   ],
   "source": [
    "import sys\n",
    "import numpy as np\n",
    "import dask\n",
    "from dask import delayed\n",
    "from dask import distributed\n",
    "import allel\n",
    "allel.__version__"
   ]
  },
  {
   "cell_type": "code",
   "execution_count": 4,
   "metadata": {},
   "outputs": [
    {
     "data": {
      "text/html": [
       "<table style=\"border: 2px solid white;\">\n",
       "<tr>\n",
       "<td style=\"vertical-align: top; border: 0px solid white\">\n",
       "<h3 style=\"text-align: left;\">Client</h3>\n",
       "<ul style=\"text-align: left; list-style: none; margin: 0; padding: 0;\">\n",
       "  <li><b>Scheduler: </b>tcp://127.0.0.1:41709</li>\n",
       "  <li><b>Dashboard: </b><a href='http://127.0.0.1:8787/status' target='_blank'>http://127.0.0.1:8787/status</a>\n",
       "</ul>\n",
       "</td>\n",
       "<td style=\"vertical-align: top; border: 0px solid white\">\n",
       "<h3 style=\"text-align: left;\">Cluster</h3>\n",
       "<ul style=\"text-align: left; list-style:none; margin: 0; padding: 0;\">\n",
       "  <li><b>Workers: </b>4</li>\n",
       "  <li><b>Cores: </b>4</li>\n",
       "  <li><b>Memory: </b>33.35 GB</li>\n",
       "</ul>\n",
       "</td>\n",
       "</tr>\n",
       "</table>"
      ],
      "text/plain": [
       "<Client: 'tcp://127.0.0.1:41709' processes=4 threads=4, memory=33.35 GB>"
      ]
     },
     "execution_count": 4,
     "metadata": {},
     "output_type": "execute_result"
    }
   ],
   "source": [
    "cluster = distributed.LocalCluster(n_workers=4, threads_per_worker=1)\n",
    "client = distributed.Client(cluster)\n",
    "client"
   ]
  },
  {
   "cell_type": "code",
   "execution_count": 5,
   "metadata": {},
   "outputs": [],
   "source": [
    "def find_max_alt(chrom):\n",
    "    import allel\n",
    "    vcf_path = 'data/vcf/ALL.chr{}.phase3_shapeit2_mvncall_integrated_v5a.20130502.genotypes.vcf.gz'.format(chrom)\n",
    "    callset = allel.read_vcf(vcf_path, fields=['variants/numalt'])\n",
    "    return callset['variants/numalt'].max()"
   ]
  },
  {
   "cell_type": "code",
   "execution_count": 6,
   "metadata": {},
   "outputs": [],
   "source": [
    "# results = [delayed(find_max_alt)(chrom) for chrom in range(1, 23)]"
   ]
  },
  {
   "cell_type": "code",
   "execution_count": 7,
   "metadata": {},
   "outputs": [],
   "source": [
    "# max_alt = dask.compute(results)"
   ]
  },
  {
   "cell_type": "code",
   "execution_count": 8,
   "metadata": {},
   "outputs": [],
   "source": [
    "# max_alt\n",
    "# [12, 7, 8, 6, 7, 9, 8, 8, 7, 7, 9, 6, 7, 7, 8, 7, 6, 7, 7, 6, 6, 8]"
   ]
  },
  {
   "cell_type": "markdown",
   "metadata": {},
   "source": [
    "## Parse VCF to Zarr"
   ]
  },
  {
   "cell_type": "code",
   "execution_count": 18,
   "metadata": {},
   "outputs": [],
   "source": [
    "def parse_vcf_to_zarr(chrom):\n",
    "    import allel\n",
    "    import zarr\n",
    "    import numcodecs\n",
    "    compressor = numcodecs.Blosc(cname='zstd', clevel=1, shuffle=-1)\n",
    "    vcf_path = 'data/vcf/ALL.chr{}.phase3_shapeit2_mvncall_integrated_v5a.20130502.genotypes.vcf.gz'.format(chrom)\n",
    "    zarr_path = 'data/zarr/ALL.phase3_shapeit2_mvncall_integrated_v5a.20130502.genotypes'\n",
    "    root = zarr.open(zarr_path, mode='a')\n",
    "    if chrom in root:\n",
    "        if root[chrom].attrs.get('complete', False):\n",
    "            print('already done, skipping')\n",
    "            return\n",
    "        else:\n",
    "            del root[chrom]\n",
    "    allel.vcf_to_zarr(vcf_path, zarr_path, group=chrom, fields='*', alt_number=12,\n",
    "                      compressor=compressor, log=sys.stdout, chunk_length=2**18,\n",
    "                      chunk_width=128)\n",
    "    root[chrom].attrs['complete'] = True\n"
   ]
  },
  {
   "cell_type": "code",
   "execution_count": 19,
   "metadata": {},
   "outputs": [],
   "source": [
    "tasks = [delayed(parse_vcf_to_zarr)(chrom) for chrom in range(1, 23)]"
   ]
  },
  {
   "cell_type": "code",
   "execution_count": 20,
   "metadata": {},
   "outputs": [
    {
     "data": {
      "text/plain": [
       "([None,\n",
       "  None,\n",
       "  None,\n",
       "  None,\n",
       "  None,\n",
       "  None,\n",
       "  None,\n",
       "  None,\n",
       "  None,\n",
       "  None,\n",
       "  None,\n",
       "  None,\n",
       "  None,\n",
       "  None,\n",
       "  None,\n",
       "  None,\n",
       "  None,\n",
       "  None,\n",
       "  None,\n",
       "  None,\n",
       "  None,\n",
       "  None],)"
      ]
     },
     "execution_count": 20,
     "metadata": {},
     "output_type": "execute_result"
    }
   ],
   "source": [
    "dask.compute(tasks)"
   ]
  },
  {
   "cell_type": "markdown",
   "metadata": {},
   "source": [
    "## Add sample data"
   ]
  },
  {
   "cell_type": "code",
   "execution_count": 1,
   "metadata": {},
   "outputs": [],
   "source": [
    "import pandas as pd"
   ]
  },
  {
   "cell_type": "code",
   "execution_count": 6,
   "metadata": {},
   "outputs": [
    {
     "data": {
      "text/html": [
       "<div>\n",
       "<style scoped>\n",
       "    .dataframe tbody tr th:only-of-type {\n",
       "        vertical-align: middle;\n",
       "    }\n",
       "\n",
       "    .dataframe tbody tr th {\n",
       "        vertical-align: top;\n",
       "    }\n",
       "\n",
       "    .dataframe thead th {\n",
       "        text-align: right;\n",
       "    }\n",
       "</style>\n",
       "<table border=\"1\" class=\"dataframe\">\n",
       "  <thead>\n",
       "    <tr style=\"text-align: right;\">\n",
       "      <th></th>\n",
       "      <th>sample</th>\n",
       "      <th>pop</th>\n",
       "      <th>super_pop</th>\n",
       "      <th>gender</th>\n",
       "    </tr>\n",
       "  </thead>\n",
       "  <tbody>\n",
       "    <tr>\n",
       "      <th>0</th>\n",
       "      <td>HG00096</td>\n",
       "      <td>GBR</td>\n",
       "      <td>EUR</td>\n",
       "      <td>male</td>\n",
       "    </tr>\n",
       "    <tr>\n",
       "      <th>1</th>\n",
       "      <td>HG00097</td>\n",
       "      <td>GBR</td>\n",
       "      <td>EUR</td>\n",
       "      <td>female</td>\n",
       "    </tr>\n",
       "    <tr>\n",
       "      <th>2</th>\n",
       "      <td>HG00099</td>\n",
       "      <td>GBR</td>\n",
       "      <td>EUR</td>\n",
       "      <td>female</td>\n",
       "    </tr>\n",
       "    <tr>\n",
       "      <th>3</th>\n",
       "      <td>HG00100</td>\n",
       "      <td>GBR</td>\n",
       "      <td>EUR</td>\n",
       "      <td>female</td>\n",
       "    </tr>\n",
       "    <tr>\n",
       "      <th>4</th>\n",
       "      <td>HG00101</td>\n",
       "      <td>GBR</td>\n",
       "      <td>EUR</td>\n",
       "      <td>male</td>\n",
       "    </tr>\n",
       "    <tr>\n",
       "      <th>...</th>\n",
       "      <td>...</td>\n",
       "      <td>...</td>\n",
       "      <td>...</td>\n",
       "      <td>...</td>\n",
       "    </tr>\n",
       "    <tr>\n",
       "      <th>2499</th>\n",
       "      <td>NA21137</td>\n",
       "      <td>GIH</td>\n",
       "      <td>SAS</td>\n",
       "      <td>female</td>\n",
       "    </tr>\n",
       "    <tr>\n",
       "      <th>2500</th>\n",
       "      <td>NA21141</td>\n",
       "      <td>GIH</td>\n",
       "      <td>SAS</td>\n",
       "      <td>female</td>\n",
       "    </tr>\n",
       "    <tr>\n",
       "      <th>2501</th>\n",
       "      <td>NA21142</td>\n",
       "      <td>GIH</td>\n",
       "      <td>SAS</td>\n",
       "      <td>female</td>\n",
       "    </tr>\n",
       "    <tr>\n",
       "      <th>2502</th>\n",
       "      <td>NA21143</td>\n",
       "      <td>GIH</td>\n",
       "      <td>SAS</td>\n",
       "      <td>female</td>\n",
       "    </tr>\n",
       "    <tr>\n",
       "      <th>2503</th>\n",
       "      <td>NA21144</td>\n",
       "      <td>GIH</td>\n",
       "      <td>SAS</td>\n",
       "      <td>female</td>\n",
       "    </tr>\n",
       "  </tbody>\n",
       "</table>\n",
       "<p>2504 rows × 4 columns</p>\n",
       "</div>"
      ],
      "text/plain": [
       "       sample  pop super_pop  gender\n",
       "0     HG00096  GBR       EUR    male\n",
       "1     HG00097  GBR       EUR  female\n",
       "2     HG00099  GBR       EUR  female\n",
       "3     HG00100  GBR       EUR  female\n",
       "4     HG00101  GBR       EUR    male\n",
       "...       ...  ...       ...     ...\n",
       "2499  NA21137  GIH       SAS  female\n",
       "2500  NA21141  GIH       SAS  female\n",
       "2501  NA21142  GIH       SAS  female\n",
       "2502  NA21143  GIH       SAS  female\n",
       "2503  NA21144  GIH       SAS  female\n",
       "\n",
       "[2504 rows x 4 columns]"
      ]
     },
     "execution_count": 6,
     "metadata": {},
     "output_type": "execute_result"
    }
   ],
   "source": [
    "df_samples = pd.read_csv('data/vcf/integrated_call_samples_v3.20130502.ALL.panel', \n",
    "                         sep='\\t', \n",
    "                         usecols=['sample', 'pop', 'super_pop', 'gender'])\n",
    "df_samples"
   ]
  },
  {
   "cell_type": "code",
   "execution_count": 9,
   "metadata": {},
   "outputs": [
    {
     "name": "stdout",
     "output_type": "stream",
     "text": [
      "/\n",
      " ├── 1\n",
      " ├── 10\n",
      " ├── 11\n",
      " ├── 12\n",
      " ├── 13\n",
      " ├── 14\n",
      " ├── 15\n",
      " ├── 16\n",
      " ├── 17\n",
      " ├── 18\n",
      " ├── 19\n",
      " ├── 2\n",
      " ├── 20\n",
      " ├── 21\n",
      " ├── 22\n",
      " ├── 3\n",
      " ├── 4\n",
      " ├── 5\n",
      " ├── 6\n",
      " ├── 7\n",
      " ├── 8\n",
      " └── 9\n"
     ]
    }
   ],
   "source": [
    "import zarr\n",
    "zarr_path = 'data/zarr/ALL.phase3_shapeit2_mvncall_integrated_v5a.20130502.genotypes'\n",
    "callset = zarr.open(zarr_path, mode='a')\n",
    "print(callset.tree(level=1))"
   ]
  },
  {
   "cell_type": "code",
   "execution_count": 10,
   "metadata": {},
   "outputs": [
    {
     "name": "stdout",
     "output_type": "stream",
     "text": [
      "1\n",
      " ├── calldata\n",
      " │   └── GT (6468094, 2504, 2) int8\n",
      " ├── samples (2504,) object\n",
      " └── variants\n",
      "     ├── AA (6468094,) object\n",
      "     ├── AC (6468094, 12) int32\n",
      "     ├── AF (6468094, 12) float32\n",
      "     ├── AFR_AF (6468094, 12) float32\n",
      "     ├── ALT (6468094, 12) object\n",
      "     ├── AMR_AF (6468094, 12) float32\n",
      "     ├── AN (6468094,) int32\n",
      "     ├── CHROM (6468094,) object\n",
      "     ├── CIEND (6468094, 2) int32\n",
      "     ├── CIPOS (6468094, 2) int32\n",
      "     ├── CS (6468094,) object\n",
      "     ├── DP (6468094,) int32\n",
      "     ├── EAS_AF (6468094, 12) float32\n",
      "     ├── END (6468094,) int32\n",
      "     ├── EUR_AF (6468094, 12) float32\n",
      "     ├── EX_TARGET (6468094,) bool\n",
      "     ├── FILTER_PASS (6468094,) bool\n",
      "     ├── ID (6468094,) object\n",
      "     ├── IMPRECISE (6468094,) bool\n",
      "     ├── MC (6468094,) object\n",
      "     ├── MEINFO (6468094, 4) object\n",
      "     ├── MEND (6468094,) int32\n",
      "     ├── MLEN (6468094,) int32\n",
      "     ├── MSTART (6468094,) int32\n",
      "     ├── MULTI_ALLELIC (6468094,) bool\n",
      "     ├── NS (6468094,) int32\n",
      "     ├── POS (6468094,) int32\n",
      "     ├── QUAL (6468094,) float32\n",
      "     ├── REF (6468094,) object\n",
      "     ├── SAS_AF (6468094, 12) float32\n",
      "     ├── SVLEN (6468094,) int32\n",
      "     ├── SVTYPE (6468094,) object\n",
      "     ├── TSD (6468094,) object\n",
      "     ├── VT (6468094,) object\n",
      "     ├── altlen (6468094, 12) int32\n",
      "     ├── is_snp (6468094,) bool\n",
      "     └── numalt (6468094,) int32\n"
     ]
    }
   ],
   "source": [
    "print(callset['1'].tree())"
   ]
  },
  {
   "cell_type": "code",
   "execution_count": 12,
   "metadata": {},
   "outputs": [
    {
     "data": {
      "text/plain": [
       "['HG00096', 'HG00097', 'HG00099', 'HG00100', 'HG00101']"
      ]
     },
     "execution_count": 12,
     "metadata": {},
     "output_type": "execute_result"
    }
   ],
   "source": [
    "# Check samples from VCF same as panel\n",
    "samples_from_vcf = callset['1/samples'][:].tolist()\n",
    "samples_from_vcf[:5]"
   ]
  },
  {
   "cell_type": "code",
   "execution_count": 14,
   "metadata": {},
   "outputs": [
    {
     "data": {
      "text/plain": [
       "['HG00096', 'HG00097', 'HG00099', 'HG00100', 'HG00101']"
      ]
     },
     "execution_count": 14,
     "metadata": {},
     "output_type": "execute_result"
    }
   ],
   "source": [
    "samples_from_panel = df_samples['sample'].tolist()\n",
    "samples_from_panel[:5]"
   ]
  },
  {
   "cell_type": "code",
   "execution_count": 17,
   "metadata": {},
   "outputs": [
    {
     "data": {
      "text/plain": [
       "True"
      ]
     },
     "execution_count": 17,
     "metadata": {},
     "output_type": "execute_result"
    }
   ],
   "source": [
    "samples_from_vcf == samples_from_panel"
   ]
  },
  {
   "cell_type": "code",
   "execution_count": 18,
   "metadata": {},
   "outputs": [
    {
     "data": {
      "text/plain": [
       "<zarr.hierarchy.Group '/samples'>"
      ]
     },
     "execution_count": 18,
     "metadata": {},
     "output_type": "execute_result"
    }
   ],
   "source": [
    "callset.require_group('samples')"
   ]
  },
  {
   "cell_type": "code",
   "execution_count": 20,
   "metadata": {},
   "outputs": [],
   "source": [
    "import numcodecs"
   ]
  },
  {
   "cell_type": "code",
   "execution_count": 21,
   "metadata": {},
   "outputs": [
    {
     "data": {
      "text/plain": [
       "<zarr.core.Array '/samples/ID' (2504,) object>"
      ]
     },
     "execution_count": 21,
     "metadata": {},
     "output_type": "execute_result"
    }
   ],
   "source": [
    "callset.create_dataset('samples/ID', data=df_samples['sample'], compressor=None, chunks=None, object_codec=numcodecs.VLenUTF8())"
   ]
  },
  {
   "cell_type": "code",
   "execution_count": 22,
   "metadata": {},
   "outputs": [
    {
     "data": {
      "text/plain": [
       "<zarr.core.Array '/samples/pop' (2504,) object>"
      ]
     },
     "execution_count": 22,
     "metadata": {},
     "output_type": "execute_result"
    }
   ],
   "source": [
    "callset.create_dataset('samples/pop', data=df_samples['pop'], compressor=None, chunks=None, object_codec=numcodecs.VLenUTF8())"
   ]
  },
  {
   "cell_type": "code",
   "execution_count": 23,
   "metadata": {},
   "outputs": [
    {
     "data": {
      "text/plain": [
       "<zarr.core.Array '/samples/super_pop' (2504,) object>"
      ]
     },
     "execution_count": 23,
     "metadata": {},
     "output_type": "execute_result"
    }
   ],
   "source": [
    "callset.create_dataset('samples/super_pop', data=df_samples['super_pop'], compressor=None, chunks=None, object_codec=numcodecs.VLenUTF8())"
   ]
  },
  {
   "cell_type": "code",
   "execution_count": 24,
   "metadata": {},
   "outputs": [
    {
     "data": {
      "text/plain": [
       "<zarr.core.Array '/samples/gender' (2504,) object>"
      ]
     },
     "execution_count": 24,
     "metadata": {},
     "output_type": "execute_result"
    }
   ],
   "source": [
    "callset.create_dataset('samples/gender', data=df_samples['gender'], compressor=None, chunks=None, object_codec=numcodecs.VLenUTF8())"
   ]
  },
  {
   "cell_type": "code",
   "execution_count": 26,
   "metadata": {},
   "outputs": [
    {
     "name": "stdout",
     "output_type": "stream",
     "text": [
      "/\n",
      " ├── 1\n",
      " ├── 10\n",
      " ├── 11\n",
      " ├── 12\n",
      " ├── 13\n",
      " ├── 14\n",
      " ├── 15\n",
      " ├── 16\n",
      " ├── 17\n",
      " ├── 18\n",
      " ├── 19\n",
      " ├── 2\n",
      " ├── 20\n",
      " ├── 21\n",
      " ├── 22\n",
      " ├── 3\n",
      " ├── 4\n",
      " ├── 5\n",
      " ├── 6\n",
      " ├── 7\n",
      " ├── 8\n",
      " ├── 9\n",
      " └── samples\n"
     ]
    }
   ],
   "source": [
    "print(callset.tree(level=1))"
   ]
  },
  {
   "cell_type": "code",
   "execution_count": 27,
   "metadata": {},
   "outputs": [
    {
     "name": "stdout",
     "output_type": "stream",
     "text": [
      "samples\n",
      " ├── ID (2504,) object\n",
      " ├── gender (2504,) object\n",
      " ├── pop (2504,) object\n",
      " └── super_pop (2504,) object\n"
     ]
    }
   ],
   "source": [
    "print(callset['samples'].tree())"
   ]
  },
  {
   "cell_type": "code",
   "execution_count": 33,
   "metadata": {},
   "outputs": [
    {
     "data": {
      "text/plain": [
       "array(['HG00096', 'HG00097', 'HG00099', ..., 'NA21142', 'NA21143',\n",
       "       'NA21144'], dtype=object)"
      ]
     },
     "execution_count": 33,
     "metadata": {},
     "output_type": "execute_result"
    }
   ],
   "source": [
    "callset['samples/ID'][:]"
   ]
  },
  {
   "cell_type": "markdown",
   "metadata": {},
   "source": [
    "## Consolidate metadata"
   ]
  },
  {
   "cell_type": "code",
   "execution_count": 34,
   "metadata": {},
   "outputs": [
    {
     "data": {
      "text/plain": [
       "<zarr.hierarchy.Group '/'>"
      ]
     },
     "execution_count": 34,
     "metadata": {},
     "output_type": "execute_result"
    }
   ],
   "source": [
    "zarr.consolidate_metadata(zarr_path)"
   ]
  },
  {
   "cell_type": "code",
   "execution_count": 36,
   "metadata": {},
   "outputs": [
    {
     "name": "stdout",
     "output_type": "stream",
     "text": [
      "/\n",
      " ├── 1\n",
      " ├── 10\n",
      " ├── 11\n",
      " ├── 12\n",
      " ├── 13\n",
      " ├── 14\n",
      " ├── 15\n",
      " ├── 16\n",
      " ├── 17\n",
      " ├── 18\n",
      " ├── 19\n",
      " ├── 2\n",
      " ├── 20\n",
      " ├── 21\n",
      " ├── 22\n",
      " ├── 3\n",
      " ├── 4\n",
      " ├── 5\n",
      " ├── 6\n",
      " ├── 7\n",
      " ├── 8\n",
      " ├── 9\n",
      " └── samples\n"
     ]
    }
   ],
   "source": [
    "print(zarr.open_consolidated(zarr_path).tree(level=1))"
   ]
  },
  {
   "cell_type": "markdown",
   "metadata": {},
   "source": [
    "## Upload to GCS"
   ]
  },
  {
   "cell_type": "code",
   "execution_count": 43,
   "metadata": {},
   "outputs": [
    {
     "name": "stdout",
     "output_type": "stream",
     "text": [
      "Building synchronization state...\n",
      "At source listing 10000...\n",
      "Starting synchronization...\n",
      "Copying file://data/zarr/ALL.phase3_shapeit2_mvncall_integrated_v5a.20130502.genotypes/1/calldata/GT/0.11.0 [Content-Type=application/octet-stream]...\n",
      "Copying file://data/zarr/ALL.phase3_shapeit2_mvncall_integrated_v5a.20130502.genotypes/1/calldata/GT/0.12.0 [Content-Type=application/octet-stream]...\n",
      "Copying file://data/zarr/ALL.phase3_shapeit2_mvncall_integrated_v5a.20130502.genotypes/1/calldata/GT/0.13.0 [Content-Type=application/octet-stream]...\n",
      "Copying file://data/zarr/ALL.phase3_shapeit2_mvncall_integrated_v5a.20130502.genotypes/1/calldata/GT/0.14.0 [Content-Type=application/octet-stream]...\n",
      "Copying file://data/zarr/ALL.phase3_shapeit2_mvncall_integrated_v5a.20130502.genotypes/1/calldata/GT/0.15.0 [Content-Type=application/octet-stream]...\n",
      "Copying file://data/zarr/ALL.phase3_shapeit2_mvncall_integrated_v5a.20130502.genotypes/1/calldata/GT/0.18.0 [Content-Type=application/octet-stream]...\n",
      "Copying file://data/zarr/ALL.phase3_shapeit2_mvncall_integrated_v5a.20130502.genotypes/1/calldata/GT/0.17.0 [Content-Type=application/octet-stream]...\n",
      "Copying file://data/zarr/ALL.phase3_shapeit2_mvncall_integrated_v5a.20130502.genotypes/1/calldata/GT/0.16.0 [Content-Type=application/octet-stream]...\n",
      "Copying file://data/zarr/ALL.phase3_shapeit2_mvncall_integrated_v5a.20130502.genotypes/1/calldata/GT/0.19.0 [Content-Type=application/octet-stream]...\n",
      "Copying file://data/zarr/ALL.phase3_shapeit2_mvncall_integrated_v5a.20130502.genotypes/1/calldata/GT/0.2.0 [Content-Type=application/octet-stream]...\n",
      "Copying file://data/zarr/ALL.phase3_shapeit2_mvncall_integrated_v5a.20130502.genotypes/1/calldata/GT/0.3.0 [Content-Type=application/octet-stream]...\n",
      "Copying file://data/zarr/ALL.phase3_shapeit2_mvncall_integrated_v5a.20130502.genotypes/1/calldata/GT/0.4.0 [Content-Type=application/octet-stream]...\n",
      "Copying file://data/zarr/ALL.phase3_shapeit2_mvncall_integrated_v5a.20130502.genotypes/1/calldata/GT/1.3.0 [Content-Type=application/octet-stream]...\n",
      "Copying file://data/zarr/ALL.phase3_shapeit2_mvncall_integrated_v5a.20130502.genotypes/1/calldata/GT/0.5.0 [Content-Type=application/octet-stream]...\n",
      "Copying file://data/zarr/ALL.phase3_shapeit2_mvncall_integrated_v5a.20130502.genotypes/1/calldata/GT/0.6.0 [Content-Type=application/octet-stream]...\n",
      "Copying file://data/zarr/ALL.phase3_shapeit2_mvncall_integrated_v5a.20130502.genotypes/1/calldata/GT/0.7.0 [Content-Type=application/octet-stream]...\n",
      "Copying file://data/zarr/ALL.phase3_shapeit2_mvncall_integrated_v5a.20130502.genotypes/1/calldata/GT/0.8.0 [Content-Type=application/octet-stream]...\n",
      "Copying file://data/zarr/ALL.phase3_shapeit2_mvncall_integrated_v5a.20130502.genotypes/1/calldata/GT/0.9.0 [Content-Type=application/octet-stream]...\n",
      "Copying file://data/zarr/ALL.phase3_shapeit2_mvncall_integrated_v5a.20130502.genotypes/1/calldata/GT/1.1.0 [Content-Type=application/octet-stream]...\n",
      "Copying file://data/zarr/ALL.phase3_shapeit2_mvncall_integrated_v5a.20130502.genotypes/1/calldata/GT/1.10.0 [Content-Type=application/octet-stream]...\n",
      "Copying file://data/zarr/ALL.phase3_shapeit2_mvncall_integrated_v5a.20130502.genotypes/1/calldata/GT/1.11.0 [Content-Type=application/octet-stream]...\n",
      "Copying file://data/zarr/ALL.phase3_shapeit2_mvncall_integrated_v5a.20130502.genotypes/1/calldata/GT/1.14.0 [Content-Type=application/octet-stream]...\n",
      "Copying file://data/zarr/ALL.phase3_shapeit2_mvncall_integrated_v5a.20130502.genotypes/1/calldata/GT/1.0.0 [Content-Type=application/octet-stream]...\n",
      "Copying file://data/zarr/ALL.phase3_shapeit2_mvncall_integrated_v5a.20130502.genotypes/1/calldata/GT/1.13.0 [Content-Type=application/octet-stream]...\n",
      "Copying file://data/zarr/ALL.phase3_shapeit2_mvncall_integrated_v5a.20130502.genotypes/1/calldata/GT/1.15.0 [Content-Type=application/octet-stream]...\n",
      "Copying file://data/zarr/ALL.phase3_shapeit2_mvncall_integrated_v5a.20130502.genotypes/1/calldata/GT/1.16.0 [Content-Type=application/octet-stream]...\n",
      "Copying file://data/zarr/ALL.phase3_shapeit2_mvncall_integrated_v5a.20130502.genotypes/1/calldata/GT/1.12.0 [Content-Type=application/octet-stream]...\n",
      "Copying file://data/zarr/ALL.phase3_shapeit2_mvncall_integrated_v5a.20130502.genotypes/1/calldata/GT/1.17.0 [Content-Type=application/octet-stream]...\n",
      "Copying file://data/zarr/ALL.phase3_shapeit2_mvncall_integrated_v5a.20130502.genotypes/1/calldata/GT/1.18.0 [Content-Type=application/octet-stream]...\n",
      "Copying file://data/zarr/ALL.phase3_shapeit2_mvncall_integrated_v5a.20130502.genotypes/1/calldata/GT/1.19.0 [Content-Type=application/octet-stream]...\n",
      "Copying file://data/zarr/ALL.phase3_shapeit2_mvncall_integrated_v5a.20130502.genotypes/1/calldata/GT/1.4.0 [Content-Type=application/octet-stream]...\n",
      "Copying file://data/zarr/ALL.phase3_shapeit2_mvncall_integrated_v5a.20130502.genotypes/1/calldata/GT/1.2.0 [Content-Type=application/octet-stream]...\n",
      "Copying file://data/zarr/ALL.phase3_shapeit2_mvncall_integrated_v5a.20130502.genotypes/1/calldata/GT/1.6.0 [Content-Type=application/octet-stream]...\n",
      "Copying file://data/zarr/ALL.phase3_shapeit2_mvncall_integrated_v5a.20130502.genotypes/1/calldata/GT/1.7.0 [Content-Type=application/octet-stream]...\n",
      "Copying file://data/zarr/ALL.phase3_shapeit2_mvncall_integrated_v5a.20130502.genotypes/1/calldata/GT/1.9.0 [Content-Type=application/octet-stream]...\n",
      "Copying file://data/zarr/ALL.phase3_shapeit2_mvncall_integrated_v5a.20130502.genotypes/1/calldata/GT/10.10.0 [Content-Type=application/octet-stream]...\n",
      "Copying file://data/zarr/ALL.phase3_shapeit2_mvncall_integrated_v5a.20130502.genotypes/1/calldata/GT/1.8.0 [Content-Type=application/octet-stream]...\n",
      "Copying file://data/zarr/ALL.phase3_shapeit2_mvncall_integrated_v5a.20130502.genotypes/1/calldata/GT/10.1.0 [Content-Type=application/octet-stream]...\n",
      "Copying file://data/zarr/ALL.phase3_shapeit2_mvncall_integrated_v5a.20130502.genotypes/1/calldata/GT/10.14.0 [Content-Type=application/octet-stream]...\n",
      "Copying file://data/zarr/ALL.phase3_shapeit2_mvncall_integrated_v5a.20130502.genotypes/1/calldata/GT/10.11.0 [Content-Type=application/octet-stream]...\n",
      "Copying file://data/zarr/ALL.phase3_shapeit2_mvncall_integrated_v5a.20130502.genotypes/1/calldata/GT/10.13.0 [Content-Type=application/octet-stream]...\n",
      "Copying file://data/zarr/ALL.phase3_shapeit2_mvncall_integrated_v5a.20130502.genotypes/1/calldata/GT/10.18.0 [Content-Type=application/octet-stream]...\n",
      "Copying file://data/zarr/ALL.phase3_shapeit2_mvncall_integrated_v5a.20130502.genotypes/1/calldata/GT/10.15.0 [Content-Type=application/octet-stream]...\n",
      "Copying file://data/zarr/ALL.phase3_shapeit2_mvncall_integrated_v5a.20130502.genotypes/1/calldata/GT/10.16.0 [Content-Type=application/octet-stream]...\n",
      "Copying file://data/zarr/ALL.phase3_shapeit2_mvncall_integrated_v5a.20130502.genotypes/1/calldata/GT/10.12.0 [Content-Type=application/octet-stream]...\n",
      "Copying file://data/zarr/ALL.phase3_shapeit2_mvncall_integrated_v5a.20130502.genotypes/1/calldata/GT/10.17.0 [Content-Type=application/octet-stream]...\n",
      "Copying file://data/zarr/ALL.phase3_shapeit2_mvncall_integrated_v5a.20130502.genotypes/1/calldata/GT/10.0.0 [Content-Type=application/octet-stream]...\n",
      "Copying file://data/zarr/ALL.phase3_shapeit2_mvncall_integrated_v5a.20130502.genotypes/1/calldata/GT/1.5.0 [Content-Type=application/octet-stream]...\n",
      "Copying file://data/zarr/ALL.phase3_shapeit2_mvncall_integrated_v5a.20130502.genotypes/1/calldata/GT/10.3.0 [Content-Type=application/octet-stream]...\n",
      "Copying file://data/zarr/ALL.phase3_shapeit2_mvncall_integrated_v5a.20130502.genotypes/1/calldata/GT/10.2.0 [Content-Type=application/octet-stream]...\n",
      "Copying file://data/zarr/ALL.phase3_shapeit2_mvncall_integrated_v5a.20130502.genotypes/1/calldata/GT/10.4.0 [Content-Type=application/octet-stream]...\n",
      "Copying file://data/zarr/ALL.phase3_shapeit2_mvncall_integrated_v5a.20130502.genotypes/1/calldata/GT/10.19.0 [Content-Type=application/octet-stream]...\n",
      "Copying file://data/zarr/ALL.phase3_shapeit2_mvncall_integrated_v5a.20130502.genotypes/1/calldata/GT/10.5.0 [Content-Type=application/octet-stream]...\n",
      "Copying file://data/zarr/ALL.phase3_shapeit2_mvncall_integrated_v5a.20130502.genotypes/1/calldata/GT/10.7.0 [Content-Type=application/octet-stream]...\n",
      "Copying file://data/zarr/ALL.phase3_shapeit2_mvncall_integrated_v5a.20130502.genotypes/1/calldata/GT/11.0.0 [Content-Type=application/octet-stream]...\n",
      "Copying file://data/zarr/ALL.phase3_shapeit2_mvncall_integrated_v5a.20130502.genotypes/1/calldata/GT/10.8.0 [Content-Type=application/octet-stream]...\n",
      "Copying file://data/zarr/ALL.phase3_shapeit2_mvncall_integrated_v5a.20130502.genotypes/1/calldata/GT/10.6.0 [Content-Type=application/octet-stream]...\n",
      "Copying file://data/zarr/ALL.phase3_shapeit2_mvncall_integrated_v5a.20130502.genotypes/1/calldata/GT/10.9.0 [Content-Type=application/octet-stream]...\n",
      "Copying file://data/zarr/ALL.phase3_shapeit2_mvncall_integrated_v5a.20130502.genotypes/1/calldata/GT/11.1.0 [Content-Type=application/octet-stream]...\n",
      "Copying file://data/zarr/ALL.phase3_shapeit2_mvncall_integrated_v5a.20130502.genotypes/1/calldata/GT/11.10.0 [Content-Type=application/octet-stream]...\n",
      "Copying file://data/zarr/ALL.phase3_shapeit2_mvncall_integrated_v5a.20130502.genotypes/1/calldata/GT/11.12.0 [Content-Type=application/octet-stream]...\n",
      "Copying file://data/zarr/ALL.phase3_shapeit2_mvncall_integrated_v5a.20130502.genotypes/1/calldata/GT/11.13.0 [Content-Type=application/octet-stream]...\n",
      "Copying file://data/zarr/ALL.phase3_shapeit2_mvncall_integrated_v5a.20130502.genotypes/1/calldata/GT/11.11.0 [Content-Type=application/octet-stream]...\n",
      "Copying file://data/zarr/ALL.phase3_shapeit2_mvncall_integrated_v5a.20130502.genotypes/1/calldata/GT/11.14.0 [Content-Type=application/octet-stream]...\n",
      "Copying file://data/zarr/ALL.phase3_shapeit2_mvncall_integrated_v5a.20130502.genotypes/1/calldata/GT/11.16.0 [Content-Type=application/octet-stream]...\n",
      "Copying file://data/zarr/ALL.phase3_shapeit2_mvncall_integrated_v5a.20130502.genotypes/1/calldata/GT/11.17.0 [Content-Type=application/octet-stream]...\n",
      "Copying file://data/zarr/ALL.phase3_shapeit2_mvncall_integrated_v5a.20130502.genotypes/1/calldata/GT/11.19.0 [Content-Type=application/octet-stream]...\n",
      "Copying file://data/zarr/ALL.phase3_shapeit2_mvncall_integrated_v5a.20130502.genotypes/1/calldata/GT/11.18.0 [Content-Type=application/octet-stream]...\n",
      "Copying file://data/zarr/ALL.phase3_shapeit2_mvncall_integrated_v5a.20130502.genotypes/1/calldata/GT/11.2.0 [Content-Type=application/octet-stream]...\n",
      "Copying file://data/zarr/ALL.phase3_shapeit2_mvncall_integrated_v5a.20130502.genotypes/1/calldata/GT/11.15.0 [Content-Type=application/octet-stream]...\n",
      "Copying file://data/zarr/ALL.phase3_shapeit2_mvncall_integrated_v5a.20130502.genotypes/1/calldata/GT/11.3.0 [Content-Type=application/octet-stream]...\n",
      "Copying file://data/zarr/ALL.phase3_shapeit2_mvncall_integrated_v5a.20130502.genotypes/1/calldata/GT/11.4.0 [Content-Type=application/octet-stream]...\n",
      "Copying file://data/zarr/ALL.phase3_shapeit2_mvncall_integrated_v5a.20130502.genotypes/1/calldata/GT/11.5.0 [Content-Type=application/octet-stream]...\n",
      "Copying file://data/zarr/ALL.phase3_shapeit2_mvncall_integrated_v5a.20130502.genotypes/1/calldata/GT/11.6.0 [Content-Type=application/octet-stream]...\n",
      "Copying file://data/zarr/ALL.phase3_shapeit2_mvncall_integrated_v5a.20130502.genotypes/1/calldata/GT/11.8.0 [Content-Type=application/octet-stream]...\n",
      "Copying file://data/zarr/ALL.phase3_shapeit2_mvncall_integrated_v5a.20130502.genotypes/1/calldata/GT/11.9.0 [Content-Type=application/octet-stream]...\n",
      "Copying file://data/zarr/ALL.phase3_shapeit2_mvncall_integrated_v5a.20130502.genotypes/1/calldata/GT/11.7.0 [Content-Type=application/octet-stream]...\n",
      "Copying file://data/zarr/ALL.phase3_shapeit2_mvncall_integrated_v5a.20130502.genotypes/1/calldata/GT/12.0.0 [Content-Type=application/octet-stream]...\n",
      "Copying file://data/zarr/ALL.phase3_shapeit2_mvncall_integrated_v5a.20130502.genotypes/1/calldata/GT/12.1.0 [Content-Type=application/octet-stream]...\n",
      "Copying file://data/zarr/ALL.phase3_shapeit2_mvncall_integrated_v5a.20130502.genotypes/1/calldata/GT/12.10.0 [Content-Type=application/octet-stream]...\n",
      "INFO 0520 16:43:02.844801 retry_util.py] Retrying request, attempt #1...        \n",
      "INFO 0520 16:43:04.203549 retry_util.py] Retrying request, attempt #1...        \n",
      "INFO 0520 16:43:09.917273 retry_util.py] Retrying request, attempt #1...        \n",
      "INFO 0520 16:43:23.561059 retry_util.py] Retrying request, attempt #1...        \n",
      "INFO 0520 16:43:51.566184 retry_util.py] Retrying request, attempt #1...        \n",
      "INFO 0520 16:43:51.569230 retry_util.py] Retrying request, attempt #1...        \n",
      "INFO 0520 16:43:51.660528 retry_util.py] Retrying request, attempt #1...\n",
      "INFO 0520 16:43:51.750537 retry_util.py] Retrying request, attempt #1...\n",
      "INFO 0520 16:43:51.763017 retry_util.py] Retrying request, attempt #1...\n",
      "INFO 0520 16:43:51.785467 retry_util.py] Retrying request, attempt #1...\n",
      "INFO 0520 16:43:51.843524 retry_util.py] Retrying request, attempt #1...\n",
      "INFO 0520 16:43:51.843547 retry_util.py] Retrying request, attempt #1...\n",
      "INFO 0520 16:43:52.075722 retry_util.py] Retrying request, attempt #1...\n",
      "INFO 0520 16:43:53.297165 retry_util.py] Retrying request, attempt #1...\n",
      "INFO 0520 16:43:53.519792 retry_util.py] Retrying request, attempt #1...        \n",
      "INFO 0520 16:43:54.351619 retry_util.py] Retrying request, attempt #1...\n",
      "INFO 0520 16:43:59.545536 retry_util.py] Retrying request, attempt #1...        \n",
      "INFO 0520 16:43:59.676811 retry_util.py] Retrying request, attempt #1...        \n",
      "INFO 0520 16:43:59.867448 retry_util.py] Retrying request, attempt #1...\n",
      "INFO 0520 16:44:02.903970 retry_util.py] Retrying request, attempt #1...\n",
      "INFO 0520 16:44:04.398786 retry_util.py] Retrying request, attempt #2...        \n",
      "INFO 0520 16:44:05.143617 retry_util.py] Retrying request, attempt #1...        \n",
      "INFO 0520 16:44:06.734873 retry_util.py] Retrying request, attempt #1...\n",
      "INFO 0520 16:44:06.959415 retry_util.py] Retrying request, attempt #1...        \n",
      "INFO 0520 16:44:07.220864 retry_util.py] Retrying request, attempt #1...\n",
      "INFO 0520 16:44:10.692400 retry_util.py] Retrying request, attempt #1...\n",
      "INFO 0520 16:44:14.211760 retry_util.py] Retrying request, attempt #1...        \n",
      "INFO 0520 16:44:14.648946 retry_util.py] Retrying request, attempt #1...        \n",
      "INFO 0520 16:44:15.984330 retry_util.py] Retrying request, attempt #1...\n",
      "INFO 0520 16:44:16.490555 retry_util.py] Retrying request, attempt #2...        \n",
      "INFO 0520 16:44:20.133562 retry_util.py] Retrying request, attempt #1...\n",
      "INFO 0520 16:44:22.757023 retry_util.py] Retrying request, attempt #1...        \n",
      "INFO 0520 16:44:23.349324 retry_util.py] Retrying request, attempt #1...        \n",
      "INFO 0520 16:44:39.122382 retry_util.py] Retrying request, attempt #1...3       \n",
      "INFO 0520 16:44:43.409589 retry_util.py] Retrying request, attempt #1...8       \n",
      "INFO 0520 16:44:43.510901 retry_util.py] Retrying request, attempt #1...8       \n",
      "INFO 0520 16:44:44.621555 retry_util.py] Retrying request, attempt #1...\n",
      "INFO 0520 16:44:44.939816 retry_util.py] Retrying request, attempt #1...5       \n",
      "INFO 0520 16:44:46.384966 retry_util.py] Retrying request, attempt #1...\n",
      "INFO 0520 16:44:47.127766 retry_util.py] Retrying request, attempt #1...5       \n",
      "INFO 0520 16:44:49.537534 retry_util.py] Retrying request, attempt #1...7       \n",
      "INFO 0520 16:44:49.868130 retry_util.py] Retrying request, attempt #1...\n",
      "INFO 0520 16:44:50.007771 retry_util.py] Retrying request, attempt #1...\n",
      "INFO 0520 16:44:50.473089 retry_util.py] Retrying request, attempt #1...\n",
      "INFO 0520 16:44:51.143835 retry_util.py] Retrying request, attempt #1...6       \n",
      "INFO 0520 16:44:52.362341 retry_util.py] Retrying request, attempt #1...\n",
      "INFO 0520 16:44:53.176783 retry_util.py] Retrying request, attempt #1...        \n",
      "INFO 0520 16:44:54.433195 retry_util.py] Retrying request, attempt #1...\n",
      "INFO 0520 16:44:57.853551 retry_util.py] Retrying request, attempt #1...6       \n",
      "INFO 0520 16:44:59.451143 retry_util.py] Retrying request, attempt #1...1       \n",
      "INFO 0520 16:45:01.441711 retry_util.py] Retrying request, attempt #2...1       \n",
      "INFO 0520 16:45:02.451604 retry_util.py] Retrying request, attempt #2...3       \n",
      "INFO 0520 16:45:06.429780 retry_util.py] Retrying request, attempt #1...\n",
      "INFO 0520 16:45:08.703750 retry_util.py] Retrying request, attempt #2...7       \n",
      "INFO 0520 16:45:09.025174 retry_util.py] Retrying request, attempt #2...        \n",
      "INFO 0520 16:45:09.131773 retry_util.py] Retrying request, attempt #1...\n",
      "INFO 0520 16:45:10.751490 retry_util.py] Retrying request, attempt #2...\n",
      "INFO 0520 16:45:12.157118 retry_util.py] Retrying request, attempt #2...        \n",
      "INFO 0520 16:45:16.096277 retry_util.py] Retrying request, attempt #1...        \n",
      "INFO 0520 16:45:16.689394 retry_util.py] Retrying request, attempt #2...        \n",
      "INFO 0520 16:45:18.683810 retry_util.py] Retrying request, attempt #1...\n",
      "INFO 0520 16:45:18.808569 retry_util.py] Retrying request, attempt #1...        \n",
      "INFO 0520 16:45:19.300328 retry_util.py] Retrying request, attempt #2...\n",
      "INFO 0520 16:45:22.794151 retry_util.py] Retrying request, attempt #1...2       \n",
      "INFO 0520 16:45:22.827698 retry_util.py] Retrying request, attempt #1...\n",
      "INFO 0520 16:45:26.963576 retry_util.py] Retrying request, attempt #1...\n",
      "INFO 0520 16:45:30.262494 retry_util.py] Retrying request, attempt #3...8       \n",
      "INFO 0520 16:45:33.381103 retry_util.py] Retrying request, attempt #2...0       \n",
      "INFO 0520 16:45:33.927599 retry_util.py] Retrying request, attempt #2...\n",
      "INFO 0520 16:45:38.378114 retry_util.py] Retrying request, attempt #2...5       \n",
      "INFO 0520 16:45:40.844287 retry_util.py] Retrying request, attempt #1...5       \n",
      "INFO 0520 16:45:45.191453 retry_util.py] Retrying request, attempt #1...4       \n",
      "INFO 0520 16:45:45.772439 retry_util.py] Retrying request, attempt #2...3       \n",
      "INFO 0520 16:45:47.038276 retry_util.py] Retrying request, attempt #1...\n",
      "INFO 0520 16:45:47.549130 retry_util.py] Retrying request, attempt #2...0       \n",
      "INFO 0520 16:45:49.163932 retry_util.py] Retrying request, attempt #1...\n",
      "INFO 0520 16:45:49.606404 retry_util.py] Retrying request, attempt #2...6       \n",
      "^C\n",
      "Exception in UIThread: \n",
      "Caught CTRL-C (signal 2) - exiting\n",
      "Killed\n"
     ]
    }
   ],
   "source": [
    "!gsutil -m rsync -r data/zarr/ gs://1000genomes-zarr/"
   ]
  },
  {
   "cell_type": "code",
   "execution_count": null,
   "metadata": {},
   "outputs": [],
   "source": []
  }
 ],
 "metadata": {
  "kernelspec": {
   "display_name": "Python 3",
   "language": "python",
   "name": "python3"
  },
  "language_info": {
   "codemirror_mode": {
    "name": "ipython",
    "version": 3
   },
   "file_extension": ".py",
   "mimetype": "text/x-python",
   "name": "python",
   "nbconvert_exporter": "python",
   "pygments_lexer": "ipython3",
   "version": "3.7.6"
  }
 },
 "nbformat": 4,
 "nbformat_minor": 4
}
