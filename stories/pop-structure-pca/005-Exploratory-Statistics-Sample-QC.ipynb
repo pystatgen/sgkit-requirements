{
 "cells": [
  {
   "cell_type": "markdown",
   "metadata": {},
   "source": [
    "# Exploratory Statistics - Sample QC\n",
    "\n",
    "This comes from the example notebook and the [tour of scikit-allel](http://alimanfoo.github.io/2016/06/10/scikit-allel-tour.html) blog post."
   ]
  },
  {
   "cell_type": "code",
   "execution_count": 21,
   "metadata": {},
   "outputs": [],
   "source": [
    "import numpy as np\n",
    "import zarr\n",
    "import pandas as pd\n",
    "import dask.array as da\n",
    "import allel\n",
    "import scipy\n",
    "from pprint import pprint\n",
    "\n",
    "import matplotlib as mpl\n",
    "import matplotlib.pyplot as plt\n",
    "\n",
    "import seaborn as sns\n",
    "sns.set_style('white')\n",
    "sns.set_style('ticks')\n",
    "sns.set_context('notebook')\n",
    "%matplotlib inline"
   ]
  },
  {
   "cell_type": "code",
   "execution_count": 4,
   "metadata": {},
   "outputs": [
    {
     "name": "stderr",
     "output_type": "stream",
     "text": [
      "distributed.scheduler - INFO - Clear task state\n",
      "/opt/conda/lib/python3.7/site-packages/distributed/dashboard/core.py:72: UserWarning: \n",
      "Port 8787 is already in use. \n",
      "Perhaps you already have a cluster running?\n",
      "Hosting the diagnostics dashboard on a random port instead.\n",
      "  warnings.warn(\"\\n\" + msg)\n",
      "distributed.scheduler - INFO -   Scheduler at:   tcp://10.35.63.92:39679\n",
      "distributed.scheduler - INFO -   dashboard at:                    :42599\n"
     ]
    },
    {
     "data": {
      "application/vnd.jupyter.widget-view+json": {
       "model_id": "1737526da1ec46ea8c511b68d5ca4588",
       "version_major": 2,
       "version_minor": 0
      },
      "text/plain": [
       "VBox(children=(HTML(value='<h2>KubeCluster</h2>'), HBox(children=(HTML(value='\\n<div>\\n  <style scoped>\\n    .…"
      ]
     },
     "metadata": {},
     "output_type": "display_data"
    }
   ],
   "source": [
    "from dask_kubernetes import KubeCluster\n",
    "cluster = KubeCluster(n_workers=30)\n",
    "cluster"
   ]
  },
  {
   "cell_type": "markdown",
   "metadata": {},
   "source": [
    "## Import the Variant Data"
   ]
  },
  {
   "cell_type": "code",
   "execution_count": 5,
   "metadata": {},
   "outputs": [],
   "source": [
    "import gcsfs\n",
    "\n",
    "gcs_bucket_fs = gcsfs.GCSFileSystem(project='malariagen-jupyterhub', token='anon', access='read_only')\n",
    "\n",
    "storage_path = 'ag1000g-release/phase2.AR1/variation/main/zarr/pass/ag1000g.phase2.ar1.pass'\n",
    "store = gcsfs.mapping.GCSMap(storage_path, gcs=gcs_bucket_fs, check=False, create=False)\n",
    "callset = zarr.Group(store)"
   ]
  },
  {
   "cell_type": "code",
   "execution_count": 6,
   "metadata": {},
   "outputs": [
    {
     "data": {
      "text/html": [
       "<div class=\"allel allel-DisplayAsTable\"><span>&lt;VariantChunkedTable shape=(10640388,) dtype=[('POS', '&lt;i4'), ('REF', 'S1'), ('ALT', 'S1', (3,)), ('DP', '&lt;i4'), ('MQ', '&lt;f4'), ('QD', '&lt;f4')]\n",
       "   nbytes=202.9M cbytes=-6 cratio=-35467960.0\n",
       "   values=zarr.hierarchy.Group&gt;</span><table><thead><tr><th></th><th style=\"text-align: center\">POS</th><th style=\"text-align: center\">REF</th><th style=\"text-align: center\">ALT</th><th style=\"text-align: center\">DP</th><th style=\"text-align: center\">MQ</th><th style=\"text-align: center\">QD</th></tr></thead><tbody><tr><th style=\"text-align: center; background-color: white; border-right: 1px solid black; \">0</th><td style=\"text-align: center\">9790</td><td style=\"text-align: center\">b'C'</td><td style=\"text-align: center\">[b'T' b'' b'']</td><td style=\"text-align: center\">35484</td><td style=\"text-align: center\">54.96</td><td style=\"text-align: center\">14.26</td></tr><tr><th style=\"text-align: center; background-color: white; border-right: 1px solid black; \">1</th><td style=\"text-align: center\">9791</td><td style=\"text-align: center\">b'G'</td><td style=\"text-align: center\">[b'T' b'' b'']</td><td style=\"text-align: center\">35599</td><td style=\"text-align: center\">55.0</td><td style=\"text-align: center\">20.52</td></tr><tr><th style=\"text-align: center; background-color: white; border-right: 1px solid black; \">2</th><td style=\"text-align: center\">9798</td><td style=\"text-align: center\">b'G'</td><td style=\"text-align: center\">[b'A' b'' b'']</td><td style=\"text-align: center\">35561</td><td style=\"text-align: center\">55.01</td><td style=\"text-align: center\">13.74</td></tr><tr><th style=\"text-align: center; background-color: white; border-right: 1px solid black; \">...</th><td style=\"text-align: center\" colspan=\"7\">...</td></tr><tr><th style=\"text-align: center; background-color: white; border-right: 1px solid black; \">10640385</th><td style=\"text-align: center\">41956541</td><td style=\"text-align: center\">b'C'</td><td style=\"text-align: center\">[b'A' b'' b'']</td><td style=\"text-align: center\">40185</td><td style=\"text-align: center\">57.63</td><td style=\"text-align: center\">30.28</td></tr><tr><th style=\"text-align: center; background-color: white; border-right: 1px solid black; \">10640386</th><td style=\"text-align: center\">41956551</td><td style=\"text-align: center\">b'G'</td><td style=\"text-align: center\">[b'A' b'' b'']</td><td style=\"text-align: center\">39819</td><td style=\"text-align: center\">58.01</td><td style=\"text-align: center\">8.53</td></tr><tr><th style=\"text-align: center; background-color: white; border-right: 1px solid black; \">10640387</th><td style=\"text-align: center\">41956556</td><td style=\"text-align: center\">b'T'</td><td style=\"text-align: center\">[b'A' b'C' b'']</td><td style=\"text-align: center\">39174</td><td style=\"text-align: center\">58.37</td><td style=\"text-align: center\">32.66</td></tr></tbody></table></div>"
      ],
      "text/plain": [
       "<VariantChunkedTable shape=(10640388,) dtype=[('POS', '<i4'), ('REF', 'S1'), ('ALT', 'S1', (3,)), ('DP', '<i4'), ('MQ', '<f4'), ('QD', '<f4')]\n",
       "   nbytes=202.9M cbytes=-6 cratio=-35467960.0\n",
       "   values=zarr.hierarchy.Group>"
      ]
     },
     "execution_count": 6,
     "metadata": {},
     "output_type": "execute_result"
    }
   ],
   "source": [
    "chrom = '3L'\n",
    "\n",
    "# All the variants\n",
    "variants = allel.VariantChunkedTable(callset[chrom]['variants'], \n",
    "                                     names=['POS', 'REF', 'ALT', 'DP', 'MQ', 'QD'],\n",
    "                                     index='POS')\n",
    "variants"
   ]
  },
  {
   "cell_type": "markdown",
   "metadata": {},
   "source": [
    "## Filter Variants"
   ]
  },
  {
   "cell_type": "code",
   "execution_count": 7,
   "metadata": {},
   "outputs": [],
   "source": [
    "# Take a look at 003-Filter-Variants.ipyng for a more indepth look on filtering variants\n",
    "\n",
    "def filter_variants(table, expression='(QD > 5) & (MQ > 40) & (DP > 15000) & (DP < 30000)'):\n",
    "    \"\"\"Filter a VariantChunkedTable based on a python expression\"\"\"\n",
    "    selection = table.eval(expression)[:]\n",
    "    return selection, table.compress(selection)"
   ]
  },
  {
   "cell_type": "code",
   "execution_count": 8,
   "metadata": {},
   "outputs": [
    {
     "data": {
      "text/html": [
       "<div class=\"allel allel-DisplayAsTable\"><span>&lt;VariantChunkedTable shape=(304050,) dtype=[('POS', '&lt;i4'), ('REF', 'S1'), ('ALT', 'S1', (3,)), ('DP', '&lt;i4'), ('MQ', '&lt;f4'), ('QD', '&lt;f4')]\n",
       "   nbytes=5.8M cbytes=3.3M cratio=1.7\n",
       "   values=allel.chunked.storage_zarr.ZarrTable&gt;</span><table><thead><tr><th></th><th style=\"text-align: center\">POS</th><th style=\"text-align: center\">REF</th><th style=\"text-align: center\">ALT</th><th style=\"text-align: center\">DP</th><th style=\"text-align: center\">MQ</th><th style=\"text-align: center\">QD</th></tr></thead><tbody><tr><th style=\"text-align: center; background-color: white; border-right: 1px solid black; \">0</th><td style=\"text-align: center\">65172</td><td style=\"text-align: center\">b'T'</td><td style=\"text-align: center\">[b'A' b'' b'']</td><td style=\"text-align: center\">29076</td><td style=\"text-align: center\">43.68</td><td style=\"text-align: center\">9.71</td></tr><tr><th style=\"text-align: center; background-color: white; border-right: 1px solid black; \">1</th><td style=\"text-align: center\">80433</td><td style=\"text-align: center\">b'G'</td><td style=\"text-align: center\">[b'A' b'' b'']</td><td style=\"text-align: center\">29345</td><td style=\"text-align: center\">59.34</td><td style=\"text-align: center\">17.23</td></tr><tr><th style=\"text-align: center; background-color: white; border-right: 1px solid black; \">2</th><td style=\"text-align: center\">80434</td><td style=\"text-align: center\">b'T'</td><td style=\"text-align: center\">[b'C' b'' b'']</td><td style=\"text-align: center\">29141</td><td style=\"text-align: center\">59.34</td><td style=\"text-align: center\">11.88</td></tr><tr><th style=\"text-align: center; background-color: white; border-right: 1px solid black; \">...</th><td style=\"text-align: center\" colspan=\"7\">...</td></tr><tr><th style=\"text-align: center; background-color: white; border-right: 1px solid black; \">304047</th><td style=\"text-align: center\">41949138</td><td style=\"text-align: center\">b'G'</td><td style=\"text-align: center\">[b'T' b'' b'']</td><td style=\"text-align: center\">28489</td><td style=\"text-align: center\">57.36</td><td style=\"text-align: center\">9.42</td></tr><tr><th style=\"text-align: center; background-color: white; border-right: 1px solid black; \">304048</th><td style=\"text-align: center\">41949139</td><td style=\"text-align: center\">b'A'</td><td style=\"text-align: center\">[b'C' b'' b'']</td><td style=\"text-align: center\">28453</td><td style=\"text-align: center\">57.37</td><td style=\"text-align: center\">17.56</td></tr><tr><th style=\"text-align: center; background-color: white; border-right: 1px solid black; \">304049</th><td style=\"text-align: center\">41949142</td><td style=\"text-align: center\">b'G'</td><td style=\"text-align: center\">[b'A' b'' b'']</td><td style=\"text-align: center\">29176</td><td style=\"text-align: center\">57.39</td><td style=\"text-align: center\">12.18</td></tr></tbody></table></div>"
      ],
      "text/plain": [
       "<VariantChunkedTable shape=(304050,) dtype=[('POS', '<i4'), ('REF', 'S1'), ('ALT', 'S1', (3,)), ('DP', '<i4'), ('MQ', '<f4'), ('QD', '<f4')]\n",
       "   nbytes=5.8M cbytes=3.3M cratio=1.7\n",
       "   values=allel.chunked.storage_zarr.ZarrTable>"
      ]
     },
     "execution_count": 8,
     "metadata": {},
     "output_type": "execute_result"
    }
   ],
   "source": [
    "variant_selection, variants_pass = filter_variants(variants)\n",
    "variants_pass"
   ]
  },
  {
   "cell_type": "code",
   "execution_count": 9,
   "metadata": {},
   "outputs": [
    {
     "data": {
      "text/plain": [
       "array([False, False, False, ..., False, False, False])"
      ]
     },
     "execution_count": 9,
     "metadata": {},
     "output_type": "execute_result"
    }
   ],
   "source": [
    "variant_selection"
   ]
  },
  {
   "cell_type": "markdown",
   "metadata": {},
   "source": [
    "## Subset genotypes\n",
    "\n",
    "Let's subset the genotypes so we can more effectively look at our samples QC.\n",
    "\n",
    "See 004-Subset-Genotypes for a more indepth explanation."
   ]
  },
  {
   "cell_type": "code",
   "execution_count": 11,
   "metadata": {},
   "outputs": [
    {
     "data": {
      "text/html": [
       "<div class=\"allel allel-DisplayAs2D\"><span>&lt;GenotypeChunkedArray shape=(10640388, 1142, 2) dtype=int8 chunks=(524288, 61, 2)\n",
       "   nbytes=22.6G cbytes=-1 cratio=-24302646192.0\n",
       "   compression=blosc compression_opts={'cname': 'zstd', 'clevel': 1, 'shuffle': -1, 'blocksize': 0}\n",
       "   values=zarr.core.Array&gt;</span><table><thead><tr><th></th><th style=\"text-align: center\">0</th><th style=\"text-align: center\">1</th><th style=\"text-align: center\">2</th><th style=\"text-align: center\">3</th><th style=\"text-align: center\">4</th><th style=\"text-align: center\">...</th><th style=\"text-align: center\">1137</th><th style=\"text-align: center\">1138</th><th style=\"text-align: center\">1139</th><th style=\"text-align: center\">1140</th><th style=\"text-align: center\">1141</th></tr></thead><tbody><tr><th style=\"text-align: center; background-color: white; border-right: 1px solid black; \">0</th><td style=\"text-align: center\">0/0</td><td style=\"text-align: center\">0/0</td><td style=\"text-align: center\">0/0</td><td style=\"text-align: center\">0/0</td><td style=\"text-align: center\">0/0</td><td style=\"text-align: center\">...</td><td style=\"text-align: center\">0/0</td><td style=\"text-align: center\">0/0</td><td style=\"text-align: center\">0/0</td><td style=\"text-align: center\">0/0</td><td style=\"text-align: center\">0/0</td></tr><tr><th style=\"text-align: center; background-color: white; border-right: 1px solid black; \">1</th><td style=\"text-align: center\">0/0</td><td style=\"text-align: center\">0/0</td><td style=\"text-align: center\">0/0</td><td style=\"text-align: center\">0/0</td><td style=\"text-align: center\">0/0</td><td style=\"text-align: center\">...</td><td style=\"text-align: center\">0/0</td><td style=\"text-align: center\">0/0</td><td style=\"text-align: center\">0/0</td><td style=\"text-align: center\">0/0</td><td style=\"text-align: center\">0/0</td></tr><tr><th style=\"text-align: center; background-color: white; border-right: 1px solid black; \">2</th><td style=\"text-align: center\">0/0</td><td style=\"text-align: center\">0/0</td><td style=\"text-align: center\">0/0</td><td style=\"text-align: center\">0/0</td><td style=\"text-align: center\">0/0</td><td style=\"text-align: center\">...</td><td style=\"text-align: center\">0/0</td><td style=\"text-align: center\">0/0</td><td style=\"text-align: center\">0/0</td><td style=\"text-align: center\">0/0</td><td style=\"text-align: center\">0/0</td></tr><tr><th style=\"text-align: center; background-color: white; border-right: 1px solid black; \">...</th><td style=\"text-align: center\" colspan=\"12\">...</td></tr><tr><th style=\"text-align: center; background-color: white; border-right: 1px solid black; \">10640385</th><td style=\"text-align: center\">0/0</td><td style=\"text-align: center\">0/0</td><td style=\"text-align: center\">0/0</td><td style=\"text-align: center\">0/0</td><td style=\"text-align: center\">0/0</td><td style=\"text-align: center\">...</td><td style=\"text-align: center\">0/0</td><td style=\"text-align: center\">0/0</td><td style=\"text-align: center\">0/0</td><td style=\"text-align: center\">0/0</td><td style=\"text-align: center\">0/0</td></tr><tr><th style=\"text-align: center; background-color: white; border-right: 1px solid black; \">10640386</th><td style=\"text-align: center\">0/0</td><td style=\"text-align: center\">0/0</td><td style=\"text-align: center\">0/0</td><td style=\"text-align: center\">0/0</td><td style=\"text-align: center\">0/0</td><td style=\"text-align: center\">...</td><td style=\"text-align: center\">0/0</td><td style=\"text-align: center\">0/0</td><td style=\"text-align: center\">0/0</td><td style=\"text-align: center\">0/0</td><td style=\"text-align: center\">0/0</td></tr><tr><th style=\"text-align: center; background-color: white; border-right: 1px solid black; \">10640387</th><td style=\"text-align: center\">0/0</td><td style=\"text-align: center\">0/0</td><td style=\"text-align: center\">0/0</td><td style=\"text-align: center\">0/0</td><td style=\"text-align: center\">0/0</td><td style=\"text-align: center\">...</td><td style=\"text-align: center\">0/0</td><td style=\"text-align: center\">0/0</td><td style=\"text-align: center\">0/0</td><td style=\"text-align: center\">0/0</td><td style=\"text-align: center\">0/0</td></tr></tbody></table></div>"
      ],
      "text/plain": [
       "<GenotypeChunkedArray shape=(10640388, 1142, 2) dtype=int8 chunks=(524288, 61, 2)\n",
       "   nbytes=22.6G cbytes=-1 cratio=-24302646192.0\n",
       "   compression=blosc compression_opts={'cname': 'zstd', 'clevel': 1, 'shuffle': -1, 'blocksize': 0}\n",
       "   values=zarr.core.Array>"
      ]
     },
     "execution_count": 11,
     "metadata": {},
     "output_type": "execute_result"
    }
   ],
   "source": [
    "calldata = callset[chrom]['calldata']\n",
    "# In phase 1 data this is \n",
    "# genotypes = allel.GenotypeChunkedArray(calldata['genotype'])\n",
    "genotypes = allel.GenotypeChunkedArray(calldata['GT'])\n",
    "genotypes"
   ]
  },
  {
   "cell_type": "code",
   "execution_count": 13,
   "metadata": {},
   "outputs": [
    {
     "name": "stdout",
     "output_type": "stream",
     "text": [
      "File ‘samples.meta.txt’ already there; not retrieving.\n"
     ]
    }
   ],
   "source": [
    "!wget --no-clobber ftp://ngs.sanger.ac.uk/production/ag1000g/phase2/AR1/samples/samples.meta.txt"
   ]
  },
  {
   "cell_type": "code",
   "execution_count": 12,
   "metadata": {},
   "outputs": [],
   "source": [
    "samples = pd.read_csv('samples.meta.txt', sep='\\t')\n",
    "sample_selection = samples.population.isin({'GHcol', 'GHgam'}).values\n",
    "samples_subset = samples[sample_selection]\n",
    "samples_subset.reset_index(drop=True, inplace=True)"
   ]
  },
  {
   "cell_type": "markdown",
   "metadata": {},
   "source": [
    "Let’s work with two populations only for simplicity."
   ]
  },
  {
   "cell_type": "markdown",
   "metadata": {},
   "source": [
    "Now let’s subset the genotype calls to keep only variants that pass our quality filters and only samples in our two populations of interest."
   ]
  },
  {
   "cell_type": "code",
   "execution_count": 13,
   "metadata": {},
   "outputs": [
    {
     "name": "stderr",
     "output_type": "stream",
     "text": [
      "distributed.scheduler - INFO - Register tcp://10.35.74.2:40737\n",
      "distributed.scheduler - INFO - Starting worker compute stream, tcp://10.35.74.2:40737\n",
      "distributed.core - INFO - Starting established connection\n"
     ]
    },
    {
     "name": "stdout",
     "output_type": "stream",
     "text": [
      "CPU times: user 1min 32s, sys: 10.3 s, total: 1min 43s\n",
      "Wall time: 55.8 s\n"
     ]
    }
   ],
   "source": [
    "%%time\n",
    "genotypes_subset = genotypes.subset(variant_selection, sample_selection)"
   ]
  },
  {
   "cell_type": "code",
   "execution_count": 14,
   "metadata": {},
   "outputs": [
    {
     "data": {
      "text/html": [
       "<div class=\"allel allel-DisplayAs2D\"><span>&lt;GenotypeChunkedArray shape=(304050, 67, 2) dtype=int8 chunks=(4751, 67, 2)\n",
       "   nbytes=38.9M cbytes=2.7M cratio=14.4\n",
       "   compression=blosc compression_opts={'cname': 'lz4', 'clevel': 5, 'shuffle': 1, 'blocksize': 0}\n",
       "   values=zarr.core.Array&gt;</span><table><thead><tr><th></th><th style=\"text-align: center\">0</th><th style=\"text-align: center\">1</th><th style=\"text-align: center\">2</th><th style=\"text-align: center\">3</th><th style=\"text-align: center\">4</th><th style=\"text-align: center\">...</th><th style=\"text-align: center\">62</th><th style=\"text-align: center\">63</th><th style=\"text-align: center\">64</th><th style=\"text-align: center\">65</th><th style=\"text-align: center\">66</th></tr></thead><tbody><tr><th style=\"text-align: center; background-color: white; border-right: 1px solid black; \">0</th><td style=\"text-align: center\">0/0</td><td style=\"text-align: center\">0/0</td><td style=\"text-align: center\">0/0</td><td style=\"text-align: center\">0/0</td><td style=\"text-align: center\">0/0</td><td style=\"text-align: center\">...</td><td style=\"text-align: center\">0/0</td><td style=\"text-align: center\">0/0</td><td style=\"text-align: center\">0/0</td><td style=\"text-align: center\">0/0</td><td style=\"text-align: center\">0/0</td></tr><tr><th style=\"text-align: center; background-color: white; border-right: 1px solid black; \">1</th><td style=\"text-align: center\">0/0</td><td style=\"text-align: center\">0/0</td><td style=\"text-align: center\">0/0</td><td style=\"text-align: center\">0/0</td><td style=\"text-align: center\">0/0</td><td style=\"text-align: center\">...</td><td style=\"text-align: center\">0/0</td><td style=\"text-align: center\">0/0</td><td style=\"text-align: center\">0/0</td><td style=\"text-align: center\">0/0</td><td style=\"text-align: center\">0/0</td></tr><tr><th style=\"text-align: center; background-color: white; border-right: 1px solid black; \">2</th><td style=\"text-align: center\">0/0</td><td style=\"text-align: center\">0/0</td><td style=\"text-align: center\">0/0</td><td style=\"text-align: center\">0/0</td><td style=\"text-align: center\">0/0</td><td style=\"text-align: center\">...</td><td style=\"text-align: center\">0/0</td><td style=\"text-align: center\">0/0</td><td style=\"text-align: center\">0/0</td><td style=\"text-align: center\">0/0</td><td style=\"text-align: center\">0/0</td></tr><tr><th style=\"text-align: center; background-color: white; border-right: 1px solid black; \">...</th><td style=\"text-align: center\" colspan=\"12\">...</td></tr><tr><th style=\"text-align: center; background-color: white; border-right: 1px solid black; \">304047</th><td style=\"text-align: center\">0/0</td><td style=\"text-align: center\">0/0</td><td style=\"text-align: center\">0/0</td><td style=\"text-align: center\">0/0</td><td style=\"text-align: center\">0/0</td><td style=\"text-align: center\">...</td><td style=\"text-align: center\">0/0</td><td style=\"text-align: center\">0/0</td><td style=\"text-align: center\">0/0</td><td style=\"text-align: center\">0/0</td><td style=\"text-align: center\">0/0</td></tr><tr><th style=\"text-align: center; background-color: white; border-right: 1px solid black; \">304048</th><td style=\"text-align: center\">0/0</td><td style=\"text-align: center\">0/0</td><td style=\"text-align: center\">0/0</td><td style=\"text-align: center\">0/0</td><td style=\"text-align: center\">0/0</td><td style=\"text-align: center\">...</td><td style=\"text-align: center\">0/0</td><td style=\"text-align: center\">0/0</td><td style=\"text-align: center\">0/0</td><td style=\"text-align: center\">0/0</td><td style=\"text-align: center\">0/0</td></tr><tr><th style=\"text-align: center; background-color: white; border-right: 1px solid black; \">304049</th><td style=\"text-align: center\">0/0</td><td style=\"text-align: center\">0/0</td><td style=\"text-align: center\">0/0</td><td style=\"text-align: center\">0/0</td><td style=\"text-align: center\">0/0</td><td style=\"text-align: center\">...</td><td style=\"text-align: center\">0/0</td><td style=\"text-align: center\">0/0</td><td style=\"text-align: center\">0/0</td><td style=\"text-align: center\">0/0</td><td style=\"text-align: center\">0/0</td></tr></tbody></table></div>"
      ],
      "text/plain": [
       "<GenotypeChunkedArray shape=(304050, 67, 2) dtype=int8 chunks=(4751, 67, 2)\n",
       "   nbytes=38.9M cbytes=2.7M cratio=14.4\n",
       "   compression=blosc compression_opts={'cname': 'lz4', 'clevel': 5, 'shuffle': 1, 'blocksize': 0}\n",
       "   values=zarr.core.Array>"
      ]
     },
     "execution_count": 14,
     "metadata": {},
     "output_type": "execute_result"
    }
   ],
   "source": [
    "genotypes_subset"
   ]
  },
  {
   "cell_type": "markdown",
   "metadata": {},
   "source": [
    "## Sample QC\n",
    "\n",
    "Before we go any further, let’s do some sample QC. This is just to check if any of the samples we’re working with have major quality issues that might confound an analysis.\n",
    "\n",
    "Compute the percent of missing and heterozygous genotype calls for each sample."
   ]
  },
  {
   "cell_type": "code",
   "execution_count": 16,
   "metadata": {},
   "outputs": [
    {
     "name": "stdout",
     "output_type": "stream",
     "text": [
      "CPU times: user 997 ms, sys: 19.1 ms, total: 1.02 s\n",
      "Wall time: 951 ms\n"
     ]
    }
   ],
   "source": [
    "%%time\n",
    "n_variants = len(variants_pass)\n",
    "pc_missing = genotypes_subset.count_missing(axis=0)[:] * 100 / n_variants\n",
    "pc_het = genotypes_subset.count_het(axis=0)[:] * 100 / n_variants"
   ]
  },
  {
   "cell_type": "markdown",
   "metadata": {},
   "source": [
    "## Sample QC - Missingness"
   ]
  },
  {
   "cell_type": "code",
   "execution_count": 23,
   "metadata": {},
   "outputs": [],
   "source": [
    "#'GHcol', 'GHgam'\n",
    "\n",
    "def plot_genotype_frequency(pc, title):\n",
    "    \"\"\"plot genotype frequencies for each sample.\"\"\"\n",
    "    fig, ax = plt.subplots(figsize=(12, 4))\n",
    "    sns.despine(ax=ax, offset=10)\n",
    "    left = np.arange(len(pc))\n",
    "    palette = sns.color_palette()\n",
    "    pop2color = {'GHcol': palette[0], 'GHgam': palette[1]}\n",
    "    colors = [pop2color[p] for p in samples_subset.population]\n",
    "    ax.bar(left, pc, color=colors)\n",
    "    ax.set_xlim(0, len(pc))\n",
    "    ax.set_xlabel('Sample index')\n",
    "    ax.set_ylabel('Percent calls')\n",
    "    ax.set_title(title)\n",
    "    handles = [mpl.patches.Patch(color=palette[0]),\n",
    "               mpl.patches.Patch(color=palette[1])]\n",
    "    ax.legend(handles=handles, labels=['GHcol', 'GHgam'], title='Population',\n",
    "              bbox_to_anchor=(1, 1), loc='upper left')"
   ]
  },
  {
   "cell_type": "code",
   "execution_count": 24,
   "metadata": {},
   "outputs": [
    {
     "data": {
      "image/png": "[encoded data removed]",
      "text/plain": [
       "<Figure size 864x288 with 1 Axes>"
      ]
     },
     "metadata": {
      "needs_background": "light"
     },
     "output_type": "display_data"
    }
   ],
   "source": [
    "plot_genotype_frequency(pc_missing, 'Missing')"
   ]
  },
  {
   "cell_type": "markdown",
   "metadata": {},
   "source": [
    "These all look pretty good. I think, but let's look at which one has the most missingness."
   ]
  },
  {
   "cell_type": "code",
   "execution_count": 25,
   "metadata": {},
   "outputs": [
    {
     "data": {
      "text/plain": [
       "29"
      ]
     },
     "execution_count": 25,
     "metadata": {},
     "output_type": "execute_result"
    }
   ],
   "source": [
    "np.argsort(pc_missing)[-1]"
   ]
  },
  {
   "cell_type": "markdown",
   "metadata": {},
   "source": [
    "Sample 29 has the most missingness at ~0.030%\n",
    "\n",
    "Let’s dig a little more into this sample. Is the excess missingness spread over the whole genome, or only in a specific region? Choose two other samples to compare with."
   ]
  },
  {
   "cell_type": "code",
   "execution_count": 27,
   "metadata": {},
   "outputs": [
    {
     "data": {
      "text/html": [
       "<div class=\"allel allel-DisplayAs2D\"><span>&lt;GenotypeChunkedArray shape=(304050, 3, 2) dtype=int8 chunks=(76013, 3, 2)\n",
       "   nbytes=1.7M cbytes=185.2K cratio=9.6\n",
       "   compression=blosc compression_opts={'cname': 'lz4', 'clevel': 5, 'shuffle': 1, 'blocksize': 0}\n",
       "   values=zarr.core.Array&gt;</span><table><thead><tr><th></th><th style=\"text-align: center\">0</th><th style=\"text-align: center\">1</th><th style=\"text-align: center\">2</th></tr></thead><tbody><tr><th style=\"text-align: center; background-color: white; border-right: 1px solid black; \">0</th><td style=\"text-align: center\">0/0</td><td style=\"text-align: center\">0/0</td><td style=\"text-align: center\">0/0</td></tr><tr><th style=\"text-align: center; background-color: white; border-right: 1px solid black; \">1</th><td style=\"text-align: center\">0/0</td><td style=\"text-align: center\">0/0</td><td style=\"text-align: center\">0/0</td></tr><tr><th style=\"text-align: center; background-color: white; border-right: 1px solid black; \">2</th><td style=\"text-align: center\">0/0</td><td style=\"text-align: center\">0/0</td><td style=\"text-align: center\">0/0</td></tr><tr><th style=\"text-align: center; background-color: white; border-right: 1px solid black; \">...</th><td style=\"text-align: center\" colspan=\"4\">...</td></tr><tr><th style=\"text-align: center; background-color: white; border-right: 1px solid black; \">304047</th><td style=\"text-align: center\">0/0</td><td style=\"text-align: center\">0/0</td><td style=\"text-align: center\">0/0</td></tr><tr><th style=\"text-align: center; background-color: white; border-right: 1px solid black; \">304048</th><td style=\"text-align: center\">0/0</td><td style=\"text-align: center\">0/0</td><td style=\"text-align: center\">0/0</td></tr><tr><th style=\"text-align: center; background-color: white; border-right: 1px solid black; \">304049</th><td style=\"text-align: center\">0/0</td><td style=\"text-align: center\">0/0</td><td style=\"text-align: center\">0/0</td></tr></tbody></table></div>"
      ],
      "text/plain": [
       "<GenotypeChunkedArray shape=(304050, 3, 2) dtype=int8 chunks=(76013, 3, 2)\n",
       "   nbytes=1.7M cbytes=185.2K cratio=9.6\n",
       "   compression=blosc compression_opts={'cname': 'lz4', 'clevel': 5, 'shuffle': 1, 'blocksize': 0}\n",
       "   values=zarr.core.Array>"
      ]
     },
     "execution_count": 27,
     "metadata": {},
     "output_type": "execute_result"
    }
   ],
   "source": [
    "g_strange = genotypes_subset.take([2, 50, 29], axis=1)\n",
    "g_strange"
   ]
  },
  {
   "cell_type": "code",
   "execution_count": 28,
   "metadata": {},
   "outputs": [
    {
     "data": {
      "text/plain": [
       "array([[False, False, False],\n",
       "       [False, False, False],\n",
       "       [False, False, False],\n",
       "       ...,\n",
       "       [False, False, False],\n",
       "       [False, False, False],\n",
       "       [False, False, False]])"
      ]
     },
     "execution_count": 28,
     "metadata": {},
     "output_type": "execute_result"
    }
   ],
   "source": [
    "is_missing = g_strange.is_missing()[:]\n",
    "is_missing"
   ]
  },
  {
   "cell_type": "code",
   "execution_count": 29,
   "metadata": {},
   "outputs": [
    {
     "ename": "AttributeError",
     "evalue": "module 'allel.stats' has no attribute 'windowed_statistic'",
     "output_type": "error",
     "traceback": [
      "\u001b[0;31m---------------------------------------------------------------------------\u001b[0m",
      "\u001b[0;31mAttributeError\u001b[0m                            Traceback (most recent call last)",
      "\u001b[0;32m<ipython-input-29-5f0ff48f94e0>\u001b[0m in \u001b[0;36m<module>\u001b[0;34m\u001b[0m\n\u001b[1;32m      1\u001b[0m \u001b[0mpos\u001b[0m \u001b[0;34m=\u001b[0m \u001b[0mvariants_pass\u001b[0m\u001b[0;34m[\u001b[0m\u001b[0;34m'POS'\u001b[0m\u001b[0;34m]\u001b[0m\u001b[0;34m[\u001b[0m\u001b[0;34m:\u001b[0m\u001b[0;34m]\u001b[0m\u001b[0;34m\u001b[0m\u001b[0;34m\u001b[0m\u001b[0m\n\u001b[1;32m      2\u001b[0m \u001b[0mwindow_size\u001b[0m \u001b[0;34m=\u001b[0m \u001b[0;36m100000\u001b[0m\u001b[0;34m\u001b[0m\u001b[0;34m\u001b[0m\u001b[0m\n\u001b[0;32m----> 3\u001b[0;31m \u001b[0my1\u001b[0m\u001b[0;34m,\u001b[0m \u001b[0mwindows\u001b[0m\u001b[0;34m,\u001b[0m \u001b[0m_\u001b[0m \u001b[0;34m=\u001b[0m \u001b[0mallel\u001b[0m\u001b[0;34m.\u001b[0m\u001b[0mstats\u001b[0m\u001b[0;34m.\u001b[0m\u001b[0mwindowed_statistic\u001b[0m\u001b[0;34m(\u001b[0m\u001b[0mpos\u001b[0m\u001b[0;34m,\u001b[0m \u001b[0mis_missing\u001b[0m\u001b[0;34m[\u001b[0m\u001b[0;34m:\u001b[0m\u001b[0;34m,\u001b[0m \u001b[0;36m0\u001b[0m\u001b[0;34m]\u001b[0m\u001b[0;34m,\u001b[0m \u001b[0mstatistic\u001b[0m\u001b[0;34m=\u001b[0m\u001b[0mnp\u001b[0m\u001b[0;34m.\u001b[0m\u001b[0mcount_nonzero\u001b[0m\u001b[0;34m,\u001b[0m \u001b[0msize\u001b[0m\u001b[0;34m=\u001b[0m\u001b[0mwindow_size\u001b[0m\u001b[0;34m)\u001b[0m\u001b[0;34m\u001b[0m\u001b[0;34m\u001b[0m\u001b[0m\n\u001b[0m\u001b[1;32m      4\u001b[0m \u001b[0my2\u001b[0m\u001b[0;34m,\u001b[0m \u001b[0mwindows\u001b[0m\u001b[0;34m,\u001b[0m \u001b[0m_\u001b[0m \u001b[0;34m=\u001b[0m \u001b[0mallel\u001b[0m\u001b[0;34m.\u001b[0m\u001b[0mstats\u001b[0m\u001b[0;34m.\u001b[0m\u001b[0mwindowed_statistic\u001b[0m\u001b[0;34m(\u001b[0m\u001b[0mpos\u001b[0m\u001b[0;34m,\u001b[0m \u001b[0mis_missing\u001b[0m\u001b[0;34m[\u001b[0m\u001b[0;34m:\u001b[0m\u001b[0;34m,\u001b[0m \u001b[0;36m1\u001b[0m\u001b[0;34m]\u001b[0m\u001b[0;34m,\u001b[0m \u001b[0mstatistic\u001b[0m\u001b[0;34m=\u001b[0m\u001b[0mnp\u001b[0m\u001b[0;34m.\u001b[0m\u001b[0mcount_nonzero\u001b[0m\u001b[0;34m,\u001b[0m \u001b[0msize\u001b[0m\u001b[0;34m=\u001b[0m\u001b[0mwindow_size\u001b[0m\u001b[0;34m)\u001b[0m\u001b[0;34m\u001b[0m\u001b[0;34m\u001b[0m\u001b[0m\n\u001b[1;32m      5\u001b[0m \u001b[0my3\u001b[0m\u001b[0;34m,\u001b[0m \u001b[0mwindows\u001b[0m\u001b[0;34m,\u001b[0m \u001b[0m_\u001b[0m \u001b[0;34m=\u001b[0m \u001b[0mallel\u001b[0m\u001b[0;34m.\u001b[0m\u001b[0mstats\u001b[0m\u001b[0;34m.\u001b[0m\u001b[0mwindowed_statistic\u001b[0m\u001b[0;34m(\u001b[0m\u001b[0mpos\u001b[0m\u001b[0;34m,\u001b[0m \u001b[0mis_missing\u001b[0m\u001b[0;34m[\u001b[0m\u001b[0;34m:\u001b[0m\u001b[0;34m,\u001b[0m \u001b[0;36m2\u001b[0m\u001b[0;34m]\u001b[0m\u001b[0;34m,\u001b[0m \u001b[0mstatistic\u001b[0m\u001b[0;34m=\u001b[0m\u001b[0mnp\u001b[0m\u001b[0;34m.\u001b[0m\u001b[0mcount_nonzero\u001b[0m\u001b[0;34m,\u001b[0m \u001b[0msize\u001b[0m\u001b[0;34m=\u001b[0m\u001b[0mwindow_size\u001b[0m\u001b[0;34m)\u001b[0m\u001b[0;34m\u001b[0m\u001b[0;34m\u001b[0m\u001b[0m\n",
      "\u001b[0;31mAttributeError\u001b[0m: module 'allel.stats' has no attribute 'windowed_statistic'"
     ]
    },
    {
     "name": "stderr",
     "output_type": "stream",
     "text": [
      "distributed.scheduler - INFO - Remove worker tcp://10.35.153.2:42541\n",
      "distributed.core - INFO - Removing comms to tcp://10.35.153.2:42541\n"
     ]
    }
   ],
   "source": [
    "pos = variants_pass['POS'][:]\n",
    "window_size = 100000\n",
    "y1, windows, _ = allel.stats.windowed_statistic(pos, is_missing[:, 0], statistic=np.count_nonzero, size=window_size)\n",
    "y2, windows, _ = allel.stats.windowed_statistic(pos, is_missing[:, 1], statistic=np.count_nonzero, size=window_size)\n",
    "y3, windows, _ = allel.stats.windowed_statistic(pos, is_missing[:, 2], statistic=np.count_nonzero, size=window_size)\n",
    "x = windows.mean(axis=1)\n",
    "fig, ax = plt.subplots(figsize=(12, 4))\n",
    "sns.despine(ax=ax, offset=10)\n",
    "ax.plot(x, y1 * 100 / window_size, lw=1)\n",
    "ax.plot(x, y2 * 100 / window_size, lw=1)\n",
    "ax.plot(x, y3 * 100 / window_size, lw=1)\n",
    "ax.set_xlabel('Position (bp)')\n",
    "ax.set_ylabel('Percent calls');"
   ]
  },
  {
   "cell_type": "markdown",
   "metadata": {},
   "source": [
    "The last cell doesn't work. It should look like this:\n",
    "\n",
    "![Missingness](http://alimanfoo.github.io/assets/2016-06-10-scikit-allel-tour_files/2016-06-10-scikit-allel-tour_98_0.png)"
   ]
  },
  {
   "cell_type": "markdown",
   "metadata": {},
   "source": [
    "## Sample QC - Heterozygosity"
   ]
  },
  {
   "cell_type": "code",
   "execution_count": 31,
   "metadata": {},
   "outputs": [
    {
     "data": {
      "image/png": "[encoded data removed]",
      "text/plain": [
       "<Figure size 864x288 with 1 Axes>"
      ]
     },
     "metadata": {
      "needs_background": "light"
     },
     "output_type": "display_data"
    }
   ],
   "source": [
    "plot_genotype_frequency(pc_het, 'Heterozygous')"
   ]
  },
  {
   "cell_type": "markdown",
   "metadata": {},
   "source": [
    "## Sample QC - Allele Count\n",
    "\n",
    "As a first step into doing some population genetic analyses, let’s perform an allele count within each of the two populations we’ve selected. This just means, for each SNP, counting how many copies of the reference allele (0) and each of the alternate alleles (1, 2, 3) are observed.\n",
    "\n",
    "To set this up, define a dictionary mapping population names onto the indices of samples within them."
   ]
  },
  {
   "cell_type": "code",
   "execution_count": 32,
   "metadata": {},
   "outputs": [
    {
     "data": {
      "text/plain": [
       "[0, 1, 2, 3, 4]"
      ]
     },
     "execution_count": 32,
     "metadata": {},
     "output_type": "execute_result"
    }
   ],
   "source": [
    "#'GHcol', 'GHgam'\n",
    "subpops = {\n",
    "    'all': list(range(len(samples_subset))),\n",
    "    'GHcol': samples_subset[samples_subset.population == 'GHcol'].index.tolist(),\n",
    "    'GHgam': samples_subset[samples_subset.population == 'GHgam'].index.tolist(),\n",
    "}\n",
    "subpops['GHcol'][:5]"
   ]
  },
  {
   "cell_type": "markdown",
   "metadata": {},
   "source": [
    "Now perform the allele count."
   ]
  },
  {
   "cell_type": "code",
   "execution_count": 33,
   "metadata": {},
   "outputs": [
    {
     "name": "stdout",
     "output_type": "stream",
     "text": [
      "CPU times: user 599 ms, sys: 59.8 ms, total: 659 ms\n",
      "Wall time: 527 ms\n"
     ]
    }
   ],
   "source": [
    "%%time\n",
    "ac_subpops = genotypes_subset.count_alleles_subpops(subpops, max_allele=3)"
   ]
  },
  {
   "cell_type": "code",
   "execution_count": 34,
   "metadata": {},
   "outputs": [
    {
     "data": {
      "text/html": [
       "<div class=\"allel allel-DisplayAsTable\"><span>&lt;AlleleCountsChunkedTable shape=(304050,) dtype=[('GHcol', '&lt;i4', (4,)), ('GHgam', '&lt;i4', (4,)), ('all', '&lt;i4', (4,))]\n",
       "   nbytes=13.9M cbytes=1.2M cratio=11.2\n",
       "   values=allel.chunked.storage_zarr.ZarrTable&gt;</span><table><thead><tr><th></th><th style=\"text-align: center\">GHcol</th><th style=\"text-align: center\">GHgam</th><th style=\"text-align: center\">all</th></tr></thead><tbody><tr><th style=\"text-align: center; background-color: white; border-right: 1px solid black; \">0</th><td style=\"text-align: center\">[110   0   0   0]</td><td style=\"text-align: center\">[24  0  0  0]</td><td style=\"text-align: center\">[134   0   0   0]</td></tr><tr><th style=\"text-align: center; background-color: white; border-right: 1px solid black; \">1</th><td style=\"text-align: center\">[110   0   0   0]</td><td style=\"text-align: center\">[24  0  0  0]</td><td style=\"text-align: center\">[134   0   0   0]</td></tr><tr><th style=\"text-align: center; background-color: white; border-right: 1px solid black; \">2</th><td style=\"text-align: center\">[110   0   0   0]</td><td style=\"text-align: center\">[24  0  0  0]</td><td style=\"text-align: center\">[134   0   0   0]</td></tr><tr><th style=\"text-align: center; background-color: white; border-right: 1px solid black; \">...</th><td style=\"text-align: center\" colspan=\"4\">...</td></tr><tr><th style=\"text-align: center; background-color: white; border-right: 1px solid black; \">304047</th><td style=\"text-align: center\">[110   0   0   0]</td><td style=\"text-align: center\">[24  0  0  0]</td><td style=\"text-align: center\">[134   0   0   0]</td></tr><tr><th style=\"text-align: center; background-color: white; border-right: 1px solid black; \">304048</th><td style=\"text-align: center\">[110   0   0   0]</td><td style=\"text-align: center\">[24  0  0  0]</td><td style=\"text-align: center\">[134   0   0   0]</td></tr><tr><th style=\"text-align: center; background-color: white; border-right: 1px solid black; \">304049</th><td style=\"text-align: center\">[110   0   0   0]</td><td style=\"text-align: center\">[24  0  0  0]</td><td style=\"text-align: center\">[134   0   0   0]</td></tr></tbody></table></div>"
      ],
      "text/plain": [
       "<AlleleCountsChunkedTable shape=(304050,) dtype=[('GHcol', '<i4', (4,)), ('GHgam', '<i4', (4,)), ('all', '<i4', (4,))]\n",
       "   nbytes=13.9M cbytes=1.2M cratio=11.2\n",
       "   values=allel.chunked.storage_zarr.ZarrTable>"
      ]
     },
     "execution_count": 34,
     "metadata": {},
     "output_type": "execute_result"
    }
   ],
   "source": [
    "ac_subpops"
   ]
  },
  {
   "cell_type": "code",
   "execution_count": 35,
   "metadata": {},
   "outputs": [
    {
     "data": {
      "text/html": [
       "<div class=\"allel allel-DisplayAs2D\"><span>&lt;AlleleCountsArray shape=(5, 4) dtype=int32&gt;</span><table><thead><tr><th></th><th style=\"text-align: center\">0</th><th style=\"text-align: center\">1</th><th style=\"text-align: center\">2</th><th style=\"text-align: center\">3</th></tr></thead><tbody><tr><th style=\"text-align: center; background-color: white; border-right: 1px solid black; \">0</th><td style=\"text-align: center\">110</td><td style=\"text-align: center\">  0</td><td style=\"text-align: center\">  0</td><td style=\"text-align: center\">  0</td></tr><tr><th style=\"text-align: center; background-color: white; border-right: 1px solid black; \">1</th><td style=\"text-align: center\">110</td><td style=\"text-align: center\">  0</td><td style=\"text-align: center\">  0</td><td style=\"text-align: center\">  0</td></tr><tr><th style=\"text-align: center; background-color: white; border-right: 1px solid black; \">2</th><td style=\"text-align: center\">110</td><td style=\"text-align: center\">  0</td><td style=\"text-align: center\">  0</td><td style=\"text-align: center\">  0</td></tr><tr><th style=\"text-align: center; background-color: white; border-right: 1px solid black; \">3</th><td style=\"text-align: center\">110</td><td style=\"text-align: center\">  0</td><td style=\"text-align: center\">  0</td><td style=\"text-align: center\">  0</td></tr><tr><th style=\"text-align: center; background-color: white; border-right: 1px solid black; \">4</th><td style=\"text-align: center\">101</td><td style=\"text-align: center\">  9</td><td style=\"text-align: center\">  0</td><td style=\"text-align: center\">  0</td></tr></tbody></table></div>"
      ],
      "text/plain": [
       "<AlleleCountsArray shape=(5, 4) dtype=int32>\n",
       "110   0   0   0\n",
       "110   0   0   0\n",
       "110   0   0   0\n",
       "110   0   0   0\n",
       "101   9   0   0"
      ]
     },
     "execution_count": 35,
     "metadata": {},
     "output_type": "execute_result"
    },
    {
     "name": "stderr",
     "output_type": "stream",
     "text": [
      "distributed.scheduler - INFO - Remove worker tcp://10.35.158.2:45601\n",
      "distributed.core - INFO - Removing comms to tcp://10.35.158.2:45601\n"
     ]
    }
   ],
   "source": [
    "ac_subpops['GHcol'][:5]"
   ]
  },
  {
   "cell_type": "markdown",
   "metadata": {},
   "source": [
    "## Sample QC - Locate segregating variants\n",
    "\n",
    "There are lots of SNPs which do not segregate in either of these populations are so are not interesting for any analysis of these populations. We might as well get rid of them.\n",
    "\n",
    "How many segregating SNPs are there in each population?"
   ]
  },
  {
   "cell_type": "code",
   "execution_count": 36,
   "metadata": {},
   "outputs": [
    {
     "name": "stdout",
     "output_type": "stream",
     "text": [
      "all 105749\n",
      "GHcol 89287\n",
      "GHgam 55085\n"
     ]
    }
   ],
   "source": [
    "#'GHcol', 'GHgam'\n",
    "for pop in 'all', 'GHcol', 'GHgam':\n",
    "    print(pop, ac_subpops[pop].count_segregating())"
   ]
  },
  {
   "cell_type": "markdown",
   "metadata": {},
   "source": [
    "Locate SNPs that are segregating in the union of our two selected populations."
   ]
  },
  {
   "cell_type": "code",
   "execution_count": 37,
   "metadata": {},
   "outputs": [
    {
     "data": {
      "text/plain": [
       "array([False, False, False, ..., False, False, False])"
      ]
     },
     "execution_count": 37,
     "metadata": {},
     "output_type": "execute_result"
    }
   ],
   "source": [
    "is_seg = ac_subpops['all'].is_segregating()[:]\n",
    "is_seg"
   ]
  },
  {
   "cell_type": "markdown",
   "metadata": {},
   "source": [
    "## Subset the genotypes based on segregating variants"
   ]
  },
  {
   "cell_type": "code",
   "execution_count": 40,
   "metadata": {},
   "outputs": [
    {
     "data": {
      "text/html": [
       "<div class=\"allel allel-DisplayAs2D\"><span>&lt;GenotypeChunkedArray shape=(105749, 67, 2) dtype=int8 chunks=(3305, 67, 2)\n",
       "   nbytes=13.5M cbytes=2.6M cratio=5.3\n",
       "   compression=blosc compression_opts={'cname': 'lz4', 'clevel': 5, 'shuffle': 1, 'blocksize': 0}\n",
       "   values=zarr.core.Array&gt;</span><table><thead><tr><th></th><th style=\"text-align: center\">0</th><th style=\"text-align: center\">1</th><th style=\"text-align: center\">2</th><th style=\"text-align: center\">3</th><th style=\"text-align: center\">4</th><th style=\"text-align: center\">...</th><th style=\"text-align: center\">62</th><th style=\"text-align: center\">63</th><th style=\"text-align: center\">64</th><th style=\"text-align: center\">65</th><th style=\"text-align: center\">66</th></tr></thead><tbody><tr><th style=\"text-align: center; background-color: white; border-right: 1px solid black; \">0</th><td style=\"text-align: center\">0/1</td><td style=\"text-align: center\">0/0</td><td style=\"text-align: center\">0/0</td><td style=\"text-align: center\">0/0</td><td style=\"text-align: center\">0/0</td><td style=\"text-align: center\">...</td><td style=\"text-align: center\">0/0</td><td style=\"text-align: center\">0/0</td><td style=\"text-align: center\">0/0</td><td style=\"text-align: center\">0/0</td><td style=\"text-align: center\">0/0</td></tr><tr><th style=\"text-align: center; background-color: white; border-right: 1px solid black; \">1</th><td style=\"text-align: center\">0/0</td><td style=\"text-align: center\">0/0</td><td style=\"text-align: center\">0/0</td><td style=\"text-align: center\">0/0</td><td style=\"text-align: center\">0/0</td><td style=\"text-align: center\">...</td><td style=\"text-align: center\">0/0</td><td style=\"text-align: center\">0/0</td><td style=\"text-align: center\">0/0</td><td style=\"text-align: center\">0/0</td><td style=\"text-align: center\">0/0</td></tr><tr><th style=\"text-align: center; background-color: white; border-right: 1px solid black; \">2</th><td style=\"text-align: center\">0/0</td><td style=\"text-align: center\">0/0</td><td style=\"text-align: center\">0/0</td><td style=\"text-align: center\">0/0</td><td style=\"text-align: center\">0/0</td><td style=\"text-align: center\">...</td><td style=\"text-align: center\">0/0</td><td style=\"text-align: center\">0/0</td><td style=\"text-align: center\">0/0</td><td style=\"text-align: center\">0/0</td><td style=\"text-align: center\">0/0</td></tr><tr><th style=\"text-align: center; background-color: white; border-right: 1px solid black; \">...</th><td style=\"text-align: center\" colspan=\"12\">...</td></tr><tr><th style=\"text-align: center; background-color: white; border-right: 1px solid black; \">105746</th><td style=\"text-align: center\">0/0</td><td style=\"text-align: center\">0/0</td><td style=\"text-align: center\">0/0</td><td style=\"text-align: center\">0/0</td><td style=\"text-align: center\">0/0</td><td style=\"text-align: center\">...</td><td style=\"text-align: center\">0/0</td><td style=\"text-align: center\">0/0</td><td style=\"text-align: center\">0/0</td><td style=\"text-align: center\">0/0</td><td style=\"text-align: center\">0/0</td></tr><tr><th style=\"text-align: center; background-color: white; border-right: 1px solid black; \">105747</th><td style=\"text-align: center\">0/0</td><td style=\"text-align: center\">0/0</td><td style=\"text-align: center\">0/0</td><td style=\"text-align: center\">0/0</td><td style=\"text-align: center\">0/0</td><td style=\"text-align: center\">...</td><td style=\"text-align: center\">0/0</td><td style=\"text-align: center\">0/1</td><td style=\"text-align: center\">0/0</td><td style=\"text-align: center\">0/0</td><td style=\"text-align: center\">0/0</td></tr><tr><th style=\"text-align: center; background-color: white; border-right: 1px solid black; \">105748</th><td style=\"text-align: center\">0/0</td><td style=\"text-align: center\">0/0</td><td style=\"text-align: center\">0/0</td><td style=\"text-align: center\">0/0</td><td style=\"text-align: center\">0/0</td><td style=\"text-align: center\">...</td><td style=\"text-align: center\">0/0</td><td style=\"text-align: center\">0/0</td><td style=\"text-align: center\">0/0</td><td style=\"text-align: center\">0/0</td><td style=\"text-align: center\">0/0</td></tr></tbody></table></div>"
      ],
      "text/plain": [
       "<GenotypeChunkedArray shape=(105749, 67, 2) dtype=int8 chunks=(3305, 67, 2)\n",
       "   nbytes=13.5M cbytes=2.6M cratio=5.3\n",
       "   compression=blosc compression_opts={'cname': 'lz4', 'clevel': 5, 'shuffle': 1, 'blocksize': 0}\n",
       "   values=zarr.core.Array>"
      ]
     },
     "execution_count": 40,
     "metadata": {},
     "output_type": "execute_result"
    }
   ],
   "source": [
    "genotypes_seg = genotypes_subset.compress(is_seg, axis=0)\n",
    "genotypes_seg"
   ]
  },
  {
   "cell_type": "code",
   "execution_count": 41,
   "metadata": {},
   "outputs": [
    {
     "data": {
      "text/html": [
       "<div class=\"allel allel-DisplayAsTable\"><span>&lt;VariantChunkedTable shape=(105749,) dtype=[('POS', '&lt;i4'), ('REF', 'S1'), ('ALT', 'S1', (3,)), ('DP', '&lt;i4'), ('MQ', '&lt;f4'), ('QD', '&lt;f4')]\n",
       "   nbytes=2.0M cbytes=1.2M cratio=1.7\n",
       "   values=allel.chunked.storage_zarr.ZarrTable&gt;</span><table><thead><tr><th></th><th style=\"text-align: center\">POS</th><th style=\"text-align: center\">REF</th><th style=\"text-align: center\">ALT</th><th style=\"text-align: center\">DP</th><th style=\"text-align: center\">MQ</th><th style=\"text-align: center\">QD</th></tr></thead><tbody><tr><th style=\"text-align: center; background-color: white; border-right: 1px solid black; \">0</th><td style=\"text-align: center\">80449</td><td style=\"text-align: center\">b'T'</td><td style=\"text-align: center\">[b'C' b'' b'']</td><td style=\"text-align: center\">28038</td><td style=\"text-align: center\">59.31</td><td style=\"text-align: center\">17.31</td></tr><tr><th style=\"text-align: center; background-color: white; border-right: 1px solid black; \">1</th><td style=\"text-align: center\">110107</td><td style=\"text-align: center\">b'G'</td><td style=\"text-align: center\">[b'A' b'C' b'']</td><td style=\"text-align: center\">29782</td><td style=\"text-align: center\">45.47</td><td style=\"text-align: center\">9.84</td></tr><tr><th style=\"text-align: center; background-color: white; border-right: 1px solid black; \">2</th><td style=\"text-align: center\">135791</td><td style=\"text-align: center\">b'C'</td><td style=\"text-align: center\">[b'A' b'' b'']</td><td style=\"text-align: center\">29401</td><td style=\"text-align: center\">55.8</td><td style=\"text-align: center\">14.79</td></tr><tr><th style=\"text-align: center; background-color: white; border-right: 1px solid black; \">...</th><td style=\"text-align: center\" colspan=\"7\">...</td></tr><tr><th style=\"text-align: center; background-color: white; border-right: 1px solid black; \">105746</th><td style=\"text-align: center\">41925635</td><td style=\"text-align: center\">b'C'</td><td style=\"text-align: center\">[b'T' b'' b'']</td><td style=\"text-align: center\">27533</td><td style=\"text-align: center\">44.1</td><td style=\"text-align: center\">8.02</td></tr><tr><th style=\"text-align: center; background-color: white; border-right: 1px solid black; \">105747</th><td style=\"text-align: center\">41941231</td><td style=\"text-align: center\">b'T'</td><td style=\"text-align: center\">[b'A' b'' b'']</td><td style=\"text-align: center\">27459</td><td style=\"text-align: center\">58.89</td><td style=\"text-align: center\">11.68</td></tr><tr><th style=\"text-align: center; background-color: white; border-right: 1px solid black; \">105748</th><td style=\"text-align: center\">41941899</td><td style=\"text-align: center\">b'C'</td><td style=\"text-align: center\">[b'A' b'T' b'']</td><td style=\"text-align: center\">27734</td><td style=\"text-align: center\">57.19</td><td style=\"text-align: center\">5.52</td></tr></tbody></table></div>"
      ],
      "text/plain": [
       "<VariantChunkedTable shape=(105749,) dtype=[('POS', '<i4'), ('REF', 'S1'), ('ALT', 'S1', (3,)), ('DP', '<i4'), ('MQ', '<f4'), ('QD', '<f4')]\n",
       "   nbytes=2.0M cbytes=1.2M cratio=1.7\n",
       "   values=allel.chunked.storage_zarr.ZarrTable>"
      ]
     },
     "execution_count": 41,
     "metadata": {},
     "output_type": "execute_result"
    }
   ],
   "source": [
    "variants_seg = variants_pass.compress(is_seg)\n",
    "variants_seg"
   ]
  },
  {
   "cell_type": "code",
   "execution_count": 42,
   "metadata": {},
   "outputs": [
    {
     "data": {
      "text/html": [
       "<div class=\"allel allel-DisplayAsTable\"><span>&lt;AlleleCountsChunkedTable shape=(105749,) dtype=[('GHcol', '&lt;i4', (4,)), ('GHgam', '&lt;i4', (4,)), ('all', '&lt;i4', (4,))]\n",
       "   nbytes=4.8M cbytes=745.3K cratio=6.7\n",
       "   values=allel.chunked.storage_zarr.ZarrTable&gt;</span><table><thead><tr><th></th><th style=\"text-align: center\">GHcol</th><th style=\"text-align: center\">GHgam</th><th style=\"text-align: center\">all</th></tr></thead><tbody><tr><th style=\"text-align: center; background-color: white; border-right: 1px solid black; \">0</th><td style=\"text-align: center\">[101   9   0   0]</td><td style=\"text-align: center\">[24  0  0  0]</td><td style=\"text-align: center\">[125   9   0   0]</td></tr><tr><th style=\"text-align: center; background-color: white; border-right: 1px solid black; \">1</th><td style=\"text-align: center\">[109   1   0   0]</td><td style=\"text-align: center\">[24  0  0  0]</td><td style=\"text-align: center\">[133   1   0   0]</td></tr><tr><th style=\"text-align: center; background-color: white; border-right: 1px solid black; \">2</th><td style=\"text-align: center\">[110   0   0   0]</td><td style=\"text-align: center\">[23  1  0  0]</td><td style=\"text-align: center\">[133   1   0   0]</td></tr><tr><th style=\"text-align: center; background-color: white; border-right: 1px solid black; \">...</th><td style=\"text-align: center\" colspan=\"4\">...</td></tr><tr><th style=\"text-align: center; background-color: white; border-right: 1px solid black; \">105746</th><td style=\"text-align: center\">[108   2   0   0]</td><td style=\"text-align: center\">[24  0  0  0]</td><td style=\"text-align: center\">[132   2   0   0]</td></tr><tr><th style=\"text-align: center; background-color: white; border-right: 1px solid black; \">105747</th><td style=\"text-align: center\">[109   1   0   0]</td><td style=\"text-align: center\">[24  0  0  0]</td><td style=\"text-align: center\">[133   1   0   0]</td></tr><tr><th style=\"text-align: center; background-color: white; border-right: 1px solid black; \">105748</th><td style=\"text-align: center\">[109   1   0   0]</td><td style=\"text-align: center\">[24  0  0  0]</td><td style=\"text-align: center\">[133   1   0   0]</td></tr></tbody></table></div>"
      ],
      "text/plain": [
       "<AlleleCountsChunkedTable shape=(105749,) dtype=[('GHcol', '<i4', (4,)), ('GHgam', '<i4', (4,)), ('all', '<i4', (4,))]\n",
       "   nbytes=4.8M cbytes=745.3K cratio=6.7\n",
       "   values=allel.chunked.storage_zarr.ZarrTable>"
      ]
     },
     "execution_count": 42,
     "metadata": {},
     "output_type": "execute_result"
    },
    {
     "name": "stderr",
     "output_type": "stream",
     "text": [
      "distributed.scheduler - INFO - Remove worker tcp://10.35.74.2:40737\n",
      "distributed.core - INFO - Removing comms to tcp://10.35.74.2:40737\n"
     ]
    }
   ],
   "source": [
    "ac_seg = ac_subpops.compress(is_seg)\n",
    "ac_seg"
   ]
  },
  {
   "cell_type": "code",
   "execution_count": null,
   "metadata": {},
   "outputs": [],
   "source": []
  }
 ],
 "metadata": {
  "kernelspec": {
   "display_name": "Python [conda env:root] *",
   "language": "python",
   "name": "conda-root-py"
  },
  "language_info": {
   "codemirror_mode": {
    "name": "ipython",
    "version": 3
   },
   "file_extension": ".py",
   "mimetype": "text/x-python",
   "name": "python",
   "nbconvert_exporter": "python",
   "pygments_lexer": "ipython3",
   "version": "3.7.6"
  }
 },
 "nbformat": 4,
 "nbformat_minor": 4
}
