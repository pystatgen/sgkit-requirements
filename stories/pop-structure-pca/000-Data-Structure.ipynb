{
 "cells": [
  {
   "cell_type": "markdown",
   "metadata": {},
   "source": [
    "# MalariaGen Directory and Data Structure\n",
    "\n",
    "This notebook describes the directory and the data structure of the MalariaGen Phase2 Variant data on Google Cloud Storage."
   ]
  },
  {
   "cell_type": "markdown",
   "metadata": {},
   "source": [
    "# Imports"
   ]
  },
  {
   "cell_type": "code",
   "execution_count": 13,
   "metadata": {},
   "outputs": [],
   "source": [
    "import numpy as np\n",
    "import zarr\n",
    "import pandas as pd\n",
    "import dask.array as da\n",
    "import allel\n",
    "from pprint import pprint\n",
    "import matplotlib.pyplot as plt\n",
    "%matplotlib inline"
   ]
  },
  {
   "cell_type": "code",
   "execution_count": 2,
   "metadata": {},
   "outputs": [
    {
     "name": "stderr",
     "output_type": "stream",
     "text": [
      "distributed.scheduler - INFO - Clear task state\n",
      "distributed.scheduler - INFO -   Scheduler at:   tcp://10.35.63.92:38717\n",
      "distributed.scheduler - INFO -   dashboard at:                     :8787\n"
     ]
    },
    {
     "data": {
      "application/vnd.jupyter.widget-view+json": {
       "model_id": "4158d342208b44d5b57da7c12f8fe3f2",
       "version_major": 2,
       "version_minor": 0
      },
      "text/plain": [
       "VBox(children=(HTML(value='<h2>KubeCluster</h2>'), HBox(children=(HTML(value='\\n<div>\\n  <style scoped>\\n    .…"
      ]
     },
     "metadata": {},
     "output_type": "display_data"
    },
    {
     "name": "stderr",
     "output_type": "stream",
     "text": [
      "distributed.scheduler - INFO - Register tcp://10.32.38.247:38543\n",
      "distributed.scheduler - INFO - Starting worker compute stream, tcp://10.32.38.247:38543\n",
      "distributed.core - INFO - Starting established connection\n",
      "distributed.scheduler - INFO - Register tcp://10.34.160.22:43789\n",
      "distributed.scheduler - INFO - Starting worker compute stream, tcp://10.34.160.22:43789\n",
      "distributed.core - INFO - Starting established connection\n",
      "distributed.scheduler - INFO - Register tcp://10.34.231.3:43433\n",
      "distributed.scheduler - INFO - Starting worker compute stream, tcp://10.34.231.3:43433\n",
      "distributed.core - INFO - Starting established connection\n"
     ]
    }
   ],
   "source": [
    "from dask_kubernetes import KubeCluster\n",
    "cluster = KubeCluster(n_workers=30)\n",
    "cluster"
   ]
  },
  {
   "cell_type": "markdown",
   "metadata": {},
   "source": [
    "# Storage Path on GCS"
   ]
  },
  {
   "cell_type": "code",
   "execution_count": 8,
   "metadata": {},
   "outputs": [],
   "source": [
    "# GCS configuration\n",
    "import gcsfs\n",
    "gcs_bucket_fs = gcsfs.GCSFileSystem(project='malariagen-jupyterhub', token='anon', access='read_only')"
   ]
  },
  {
   "cell_type": "markdown",
   "metadata": {},
   "source": [
    "### Quick Note On Zarr\n",
    "\n",
    "Zarr data is accessed very much like a python dict, but is stored on a file system with keys being folders."
   ]
  },
  {
   "cell_type": "markdown",
   "metadata": {},
   "source": [
    "# Study Data\n",
    "\n",
    "This includes the genome, haplotypes, samples, and variants"
   ]
  },
  {
   "cell_type": "code",
   "execution_count": 9,
   "metadata": {},
   "outputs": [
    {
     "data": {
      "text/plain": [
       "['ag1000g-release/phase2.AR1/accessibility',\n",
       " 'ag1000g-release/phase2.AR1/genome',\n",
       " 'ag1000g-release/phase2.AR1/haplotypes',\n",
       " 'ag1000g-release/phase2.AR1/samples',\n",
       " 'ag1000g-release/phase2.AR1/variation']"
      ]
     },
     "execution_count": 9,
     "metadata": {},
     "output_type": "execute_result"
    }
   ],
   "source": [
    "storage_path = 'ag1000g-release/phase2.AR1'\n",
    "gcs_bucket_fs.ls(storage_path)"
   ]
  },
  {
   "cell_type": "markdown",
   "metadata": {},
   "source": [
    "## Genome Data"
   ]
  },
  {
   "cell_type": "code",
   "execution_count": 14,
   "metadata": {},
   "outputs": [
    {
     "name": "stdout",
     "output_type": "stream",
     "text": [
      "('ag1000g-release/phase2.AR1/genome', ['agamP3', 'agamP4'], [])\n",
      "('ag1000g-release/phase2.AR1/genome/agamP3',\n",
      " [],\n",
      " ['Anopheles-gambiae-PEST_CHROMOSOMES_AgamP3.dict',\n",
      "  'Anopheles-gambiae-PEST_CHROMOSOMES_AgamP3.fa',\n",
      "  'Anopheles-gambiae-PEST_CHROMOSOMES_AgamP3.fa.fai',\n",
      "  'Anopheles-gambiae-PEST_CHROMOSOMES_AgamP3.fa.flat',\n",
      "  'Anopheles-gambiae-PEST_CHROMOSOMES_AgamP3.fa.gdx',\n",
      "  'Anopheles-gambiae-PEST_CHROMOSOMES_AgamP3.fa.md5',\n",
      "  'Anopheles-gambiae-PEST_REPEATFEATURES_AgamP3.gff3.gz',\n",
      "  'Anopheles-gambiae-PEST_REPEATFEATURES_AgamP3.gff3.gz.md5',\n",
      "  'Anopheles-gambiae-PEST_REPEATFEATURES_AgamP3.txt.gz',\n",
      "  'Anopheles-gambiae-PEST_REPEATFEATURES_AgamP3.txt.gz.md5',\n",
      "  'Anopheles-gambiae-PEST_REPEATS.lib',\n",
      "  'Anopheles-gambiae-PEST_REPEATS.lib.md5'])\n",
      "('ag1000g-release/phase2.AR1/genome/agamP4',\n",
      " [],\n",
      " ['Anopheles-gambiae-PEST_CHROMOSOMES_AgamP4.fa',\n",
      "  'Anopheles-gambiae-PEST_CHROMOSOMES_AgamP4.fa.fai',\n",
      "  'Anopheles-gambiae-PEST_CHROMOSOMES_AgamP4.fa.flat',\n",
      "  'Anopheles-gambiae-PEST_CHROMOSOMES_AgamP4.fa.gdx',\n",
      "  'Anopheles-gambiae-PEST_CHROMOSOMES_AgamP4.fa.md5',\n",
      "  'Anopheles-gambiae-PEST_REPEATFEATURES_AgamP4.gff3.gz',\n",
      "  'Anopheles-gambiae-PEST_REPEATFEATURES_AgamP4.gff3.gz.md5',\n",
      "  'Anopheles-gambiae-PEST_REPEATFEATURES_AgamP4.sorted.gff3.gz',\n",
      "  'Anopheles-gambiae-PEST_REPEATFEATURES_AgamP4.sorted.gff3.gz.md5',\n",
      "  'Anopheles-gambiae-PEST_REPEATFEATURES_AgamP4.sorted.gff3.gz.tbi',\n",
      "  'Anopheles-gambiae-PEST_REPEATS.lib',\n",
      "  'Anopheles-gambiae-PEST_REPEATS.lib.md5'])\n"
     ]
    }
   ],
   "source": [
    "storage_path = 'ag1000g-release/phase2.AR1/genome'\n",
    "walker = gcs_bucket_fs.walk(storage_path)\n",
    "for walk in walker:\n",
    "    pprint(walk)"
   ]
  },
  {
   "cell_type": "markdown",
   "metadata": {},
   "source": [
    "## Haplotypes"
   ]
  },
  {
   "cell_type": "code",
   "execution_count": 20,
   "metadata": {},
   "outputs": [
    {
     "name": "stdout",
     "output_type": "stream",
     "text": [
      "['ag1000g-release/phase2.AR1/haplotypes/main']\n",
      "('ag1000g-release/phase2.AR1/haplotypes/main/zarr/ag1000g.phase2.ar1.haplotypes/2L', ['calldata', 'samples', 'variants'], ['.snakemake_timestamp', '.zgroup'])\n",
      "('ag1000g-release/phase2.AR1/haplotypes/main/zarr/ag1000g.phase2.ar1.haplotypes/2L/calldata', ['GT'], ['.zgroup'])\n",
      "('ag1000g-release/phase2.AR1/haplotypes/main/zarr/ag1000g.phase2.ar1.haplotypes/2L/calldata/GT', [], ['.zarray', '0.0.0', '0.1.0', '0.10.0', '0.11.0', '0.12.0', '0.13.0', '0.14.0', '0.15.0', '0.16.0', '0.17.0', '0.18.0', '0.19.0', '0.2.0', '0.3.0', '0.4.0', '0.5.0', '0.6.0', '0.7.0', '0.8.0', '0.9.0', '1.0.0', '1.1.0', '1.10.0', '1.11.0', '1.12.0', '1.13.0', '1.14.0', '1.15.0', '1.16.0', '1.17.0', '1.18.0', '1.19.0', '1.2.0', '1.3.0', '1.4.0', '1.5.0', '1.6.0', '1.7.0', '1.8.0', '1.9.0', '10.0.0', '10.1.0', '10.10.0', '10.11.0', '10.12.0', '10.13.0', '10.14.0', '10.15.0', '10.16.0', '10.17.0', '10.18.0', '10.19.0', '10.2.0', '10.3.0', '10.4.0', '10.5.0', '10.6.0', '10.7.0', '10.8.0', '10.9.0', '11.0.0', '11.1.0', '11.10.0', '11.11.0', '11.12.0', '11.13.0', '11.14.0', '11.15.0', '11.16.0', '11.17.0', '11.18.0', '11.19.0', '11.2.0', '11.3.0', '11.4.0', '11.5.0', '11.6.0', '11.7.0', '11.8.0', '11.9.0', '12.0.0', '12.1.0', '12.10.0', '12.11.0', '12.12.0', '12.13.0', '12.14.0', '12.15.0', '12.16.0', '12.17.0', '12.18.0', '12.19.0', '12.2.0', '12.3.0', '12.4.0', '12.5.0', '12.6.0', '12.7.0', '12.8.0', '12.9.0', '13.0.0', '13.1.0', '13.10.0', '13.11.0', '13.12.0', '13.13.0', '13.14.0', '13.15.0', '13.16.0', '13.17.0', '13.18.0', '13.19.0', '13.2.0', '13.3.0', '13.4.0', '13.5.0', '13.6.0', '13.7.0', '13.8.0', '13.9.0', '14.0.0', '14.1.0', '14.10.0', '14.11.0', '14.12.0', '14.13.0', '14.14.0', '14.15.0', '14.16.0', '14.17.0', '14.18.0', '14.19.0', '14.2.0', '14.3.0', '14.4.0', '14.5.0', '14.6.0', '14.7.0', '14.8.0', '14.9.0', '15.0.0', '15.1.0', '15.10.0', '15.11.0', '15.12.0', '15.13.0', '15.14.0', '15.15.0', '15.16.0', '15.17.0', '15.18.0', '15.19.0', '15.2.0', '15.3.0', '15.4.0', '15.5.0', '15.6.0', '15.7.0', '15.8.0', '15.9.0', '16.0.0', '16.1.0', '16.10.0', '16.11.0', '16.12.0', '16.13.0', '16.14.0', '16.15.0', '16.16.0', '16.17.0', '16.18.0', '16.19.0', '16.2.0', '16.3.0', '16.4.0', '16.5.0', '16.6.0', '16.7.0', '16.8.0', '16.9.0', '2.0.0', '2.1.0', '2.10.0', '2.11.0', '2.12.0', '2.13.0', '2.14.0', '2.15.0', '2.16.0', '2.17.0', '2.18.0', '2.19.0', '2.2.0', '2.3.0', '2.4.0', '2.5.0', '2.6.0', '2.7.0', '2.8.0', '2.9.0', '3.0.0', '3.1.0', '3.10.0', '3.11.0', '3.12.0', '3.13.0', '3.14.0', '3.15.0', '3.16.0', '3.17.0', '3.18.0', '3.19.0', '3.2.0', '3.3.0', '3.4.0', '3.5.0', '3.6.0', '3.7.0', '3.8.0', '3.9.0', '4.0.0', '4.1.0', '4.10.0', '4.11.0', '4.12.0', '4.13.0', '4.14.0', '4.15.0', '4.16.0', '4.17.0', '4.18.0', '4.19.0', '4.2.0', '4.3.0', '4.4.0', '4.5.0', '4.6.0', '4.7.0', '4.8.0', '4.9.0', '5.0.0', '5.1.0', '5.10.0', '5.11.0', '5.12.0', '5.13.0', '5.14.0', '5.15.0', '5.16.0', '5.17.0', '5.18.0', '5.19.0', '5.2.0', '5.3.0', '5.4.0', '5.5.0', '5.6.0', '5.7.0', '5.8.0', '5.9.0', '6.0.0', '6.1.0', '6.10.0', '6.11.0', '6.12.0', '6.13.0', '6.14.0', '6.15.0', '6.16.0', '6.17.0', '6.18.0', '6.19.0', '6.2.0', '6.3.0', '6.4.0', '6.5.0', '6.6.0', '6.7.0', '6.8.0', '6.9.0', '7.0.0', '7.1.0', '7.10.0', '7.11.0', '7.12.0', '7.13.0', '7.14.0', '7.15.0', '7.16.0', '7.17.0', '7.18.0', '7.19.0', '7.2.0', '7.3.0', '7.4.0', '7.5.0', '7.6.0', '7.7.0', '7.8.0', '7.9.0', '8.0.0', '8.1.0', '8.10.0', '8.11.0', '8.12.0', '8.13.0', '8.14.0', '8.15.0', '8.16.0', '8.17.0', '8.18.0', '8.19.0', '8.2.0', '8.3.0', '8.4.0', '8.5.0', '8.6.0', '8.7.0', '8.8.0', '8.9.0', '9.0.0', '9.1.0', '9.10.0', '9.11.0', '9.12.0', '9.13.0', '9.14.0', '9.15.0', '9.16.0', '9.17.0', '9.18.0', '9.19.0', '9.2.0', '9.3.0', '9.4.0', '9.5.0', '9.6.0', '9.7.0', '9.8.0', '9.9.0'])\n",
      "('ag1000g-release/phase2.AR1/haplotypes/main/zarr/ag1000g.phase2.ar1.haplotypes/2L/samples', [], ['.zarray', '0'])\n",
      "('ag1000g-release/phase2.AR1/haplotypes/main/zarr/ag1000g.phase2.ar1.haplotypes/2L/variants', ['ALT', 'POS', 'REF'], ['.zgroup'])\n",
      "('ag1000g-release/phase2.AR1/haplotypes/main/zarr/ag1000g.phase2.ar1.haplotypes/2L/variants/ALT', [], ['.zarray', '0', '1', '2'])\n",
      "('ag1000g-release/phase2.AR1/haplotypes/main/zarr/ag1000g.phase2.ar1.haplotypes/2L/variants/POS', [], ['.zarray', '0', '1', '2'])\n",
      "('ag1000g-release/phase2.AR1/haplotypes/main/zarr/ag1000g.phase2.ar1.haplotypes/2L/variants/REF', [], ['.zarray', '0', '1', '2'])\n"
     ]
    }
   ],
   "source": [
    "storage_path = 'ag1000g-release/phase2.AR1/haplotypes/'\n",
    "print(gcs_bucket_fs.ls(storage_path))\n",
    "\n",
    "# For the sake of brevity we will only include chromosome 2L in this\n",
    "storage_path = 'ag1000g-release/phase2.AR1/haplotypes/main/zarr/ag1000g.phase2.ar1.haplotypes/2L'\n",
    "walker = gcs_bucket_fs.walk(storage_path)\n",
    "for walk in walker:\n",
    "    print(walk)"
   ]
  },
  {
   "cell_type": "markdown",
   "metadata": {},
   "source": [
    "# Let's get some variant data\n",
    "\n",
    "Variant data is grouped by what kind of filtering (if any) has been done. There is all, biallelic, and passed."
   ]
  },
  {
   "cell_type": "code",
   "execution_count": 30,
   "metadata": {},
   "outputs": [
    {
     "name": "stdout",
     "output_type": "stream",
     "text": [
      "['ag1000g-release/phase2.AR1/variation/main/zarr/all', 'ag1000g-release/phase2.AR1/variation/main/zarr/biallelic', 'ag1000g-release/phase2.AR1/variation/main/zarr/biallelic_snpeff', 'ag1000g-release/phase2.AR1/variation/main/zarr/pass']\n",
      "['ag1000g-release/phase2.AR1/variation/main/zarr/pass/ag1000g.phase2.ar1.pass/.zgroup', 'ag1000g-release/phase2.AR1/variation/main/zarr/pass/ag1000g.phase2.ar1.pass/.zmetadata', 'ag1000g-release/phase2.AR1/variation/main/zarr/pass/ag1000g.phase2.ar1.pass/2L', 'ag1000g-release/phase2.AR1/variation/main/zarr/pass/ag1000g.phase2.ar1.pass/2R', 'ag1000g-release/phase2.AR1/variation/main/zarr/pass/ag1000g.phase2.ar1.pass/3L', 'ag1000g-release/phase2.AR1/variation/main/zarr/pass/ag1000g.phase2.ar1.pass/3R', 'ag1000g-release/phase2.AR1/variation/main/zarr/pass/ag1000g.phase2.ar1.pass/X', 'ag1000g-release/phase2.AR1/variation/main/zarr/pass/ag1000g.phase2.ar1.pass/samples']\n"
     ]
    }
   ],
   "source": [
    "#storage_path = 'ag1000g-release/phase2.AR1/haplotypes/main/zarr/ag1000g.phase2.ar1.haplotypes'\n",
    "storage_path = 'ag1000g-release/phase2.AR1/variation/main/zarr'\n",
    "print(gcs_bucket_fs.ls(storage_path))\n",
    "\n",
    "storage_path = 'ag1000g-release/phase2.AR1/variation/main/zarr/pass/ag1000g.phase2.ar1.pass'\n",
    "print(gcs_bucket_fs.ls(storage_path))\n"
   ]
  },
  {
   "cell_type": "code",
   "execution_count": null,
   "metadata": {},
   "outputs": [],
   "source": []
  },
  {
   "cell_type": "code",
   "execution_count": 32,
   "metadata": {},
   "outputs": [],
   "source": [
    "storage_path = 'ag1000g-release/phase2.AR1/variation/main/zarr/pass/ag1000g.phase2.ar1.pass'\n",
    "store = gcsfs.mapping.GCSMap(storage_path, gcs=gcs_bucket_fs, check=False, create=False)"
   ]
  },
  {
   "cell_type": "code",
   "execution_count": 33,
   "metadata": {},
   "outputs": [
    {
     "data": {
      "text/plain": [
       "<zarr.hierarchy.Group '/'>"
      ]
     },
     "execution_count": 33,
     "metadata": {},
     "output_type": "execute_result"
    }
   ],
   "source": [
    "callset = zarr.Group(store)\n",
    "callset"
   ]
  },
  {
   "cell_type": "code",
   "execution_count": 38,
   "metadata": {},
   "outputs": [
    {
     "data": {
      "text/plain": [
       "['2L', '2R', '3L', '3R', 'X', 'samples']"
      ]
     },
     "execution_count": 38,
     "metadata": {},
     "output_type": "execute_result"
    },
    {
     "name": "stderr",
     "output_type": "stream",
     "text": [
      "distributed.scheduler - INFO - Remove worker tcp://10.35.5.2:45685\n",
      "distributed.core - INFO - Removing comms to tcp://10.35.5.2:45685\n"
     ]
    }
   ],
   "source": [
    "list(callset.keys())"
   ]
  },
  {
   "cell_type": "markdown",
   "metadata": {},
   "source": [
    "When you grab the variant data you might be accessing it as `calldata[chrom]['calldata/GT']` or `calldata[chrom]['calldata/genotype']`"
   ]
  },
  {
   "cell_type": "code",
   "execution_count": 34,
   "metadata": {},
   "outputs": [
    {
     "data": {
      "text/plain": [
       "<zarr.core.Array '/3R/calldata/GT' (14481509, 1142, 2) int8>"
      ]
     },
     "execution_count": 34,
     "metadata": {},
     "output_type": "execute_result"
    }
   ],
   "source": [
    "chrom = '3R'\n",
    "gtz = callset[chrom]['calldata/GT']\n",
    "gtz"
   ]
  },
  {
   "cell_type": "code",
   "execution_count": 35,
   "metadata": {},
   "outputs": [
    {
     "data": {
      "text/html": [
       "<div class=\"allel allel-DisplayAs2D\"><span>&lt;GenotypeDaskArray shape=(14481509, 1142, 2) dtype=int8&gt;</span><table><thead><tr><th></th><th style=\"text-align: center\">0</th><th style=\"text-align: center\">1</th><th style=\"text-align: center\">2</th><th style=\"text-align: center\">3</th><th style=\"text-align: center\">4</th><th style=\"text-align: center\">...</th><th style=\"text-align: center\">1137</th><th style=\"text-align: center\">1138</th><th style=\"text-align: center\">1139</th><th style=\"text-align: center\">1140</th><th style=\"text-align: center\">1141</th></tr></thead><tbody><tr><th style=\"text-align: center; background-color: white; border-right: 1px solid black; \">0</th><td style=\"text-align: center\">0/0</td><td style=\"text-align: center\">0/0</td><td style=\"text-align: center\">0/0</td><td style=\"text-align: center\">0/0</td><td style=\"text-align: center\">0/0</td><td style=\"text-align: center\">...</td><td style=\"text-align: center\">0/0</td><td style=\"text-align: center\">0/0</td><td style=\"text-align: center\">0/0</td><td style=\"text-align: center\">0/0</td><td style=\"text-align: center\">0/0</td></tr><tr><th style=\"text-align: center; background-color: white; border-right: 1px solid black; \">1</th><td style=\"text-align: center\">0/0</td><td style=\"text-align: center\">0/0</td><td style=\"text-align: center\">0/0</td><td style=\"text-align: center\">0/0</td><td style=\"text-align: center\">0/0</td><td style=\"text-align: center\">...</td><td style=\"text-align: center\">0/0</td><td style=\"text-align: center\">0/0</td><td style=\"text-align: center\">0/0</td><td style=\"text-align: center\">0/0</td><td style=\"text-align: center\">0/0</td></tr><tr><th style=\"text-align: center; background-color: white; border-right: 1px solid black; \">2</th><td style=\"text-align: center\">0/0</td><td style=\"text-align: center\">0/0</td><td style=\"text-align: center\">0/0</td><td style=\"text-align: center\">0/0</td><td style=\"text-align: center\">0/0</td><td style=\"text-align: center\">...</td><td style=\"text-align: center\">0/0</td><td style=\"text-align: center\">0/0</td><td style=\"text-align: center\">0/0</td><td style=\"text-align: center\">0/0</td><td style=\"text-align: center\">0/0</td></tr><tr><th style=\"text-align: center; background-color: white; border-right: 1px solid black; \">...</th><td style=\"text-align: center\" colspan=\"12\">...</td></tr><tr><th style=\"text-align: center; background-color: white; border-right: 1px solid black; \">14481506</th><td style=\"text-align: center\">0/0</td><td style=\"text-align: center\">0/0</td><td style=\"text-align: center\">0/0</td><td style=\"text-align: center\">0/0</td><td style=\"text-align: center\">0/0</td><td style=\"text-align: center\">...</td><td style=\"text-align: center\">0/0</td><td style=\"text-align: center\">0/0</td><td style=\"text-align: center\">0/0</td><td style=\"text-align: center\">0/0</td><td style=\"text-align: center\">0/0</td></tr><tr><th style=\"text-align: center; background-color: white; border-right: 1px solid black; \">14481507</th><td style=\"text-align: center\">0/0</td><td style=\"text-align: center\">0/0</td><td style=\"text-align: center\">0/0</td><td style=\"text-align: center\">0/0</td><td style=\"text-align: center\">0/0</td><td style=\"text-align: center\">...</td><td style=\"text-align: center\">0/0</td><td style=\"text-align: center\">0/0</td><td style=\"text-align: center\">0/0</td><td style=\"text-align: center\">0/0</td><td style=\"text-align: center\">0/0</td></tr><tr><th style=\"text-align: center; background-color: white; border-right: 1px solid black; \">14481508</th><td style=\"text-align: center\">0/0</td><td style=\"text-align: center\">0/0</td><td style=\"text-align: center\">0/0</td><td style=\"text-align: center\">0/0</td><td style=\"text-align: center\">0/0</td><td style=\"text-align: center\">...</td><td style=\"text-align: center\">0/0</td><td style=\"text-align: center\">0/0</td><td style=\"text-align: center\">0/0</td><td style=\"text-align: center\">0/0</td><td style=\"text-align: center\">0/0</td></tr></tbody></table></div>"
      ],
      "text/plain": [
       "<GenotypeDaskArray shape=(14481509, 1142, 2) dtype=int8>"
      ]
     },
     "execution_count": 35,
     "metadata": {},
     "output_type": "execute_result"
    }
   ],
   "source": [
    "gt = allel.GenotypeDaskArray(gtz)\n",
    "gt"
   ]
  },
  {
   "cell_type": "markdown",
   "metadata": {},
   "source": [
    "# Grab Sample MetaData"
   ]
  },
  {
   "cell_type": "code",
   "execution_count": 26,
   "metadata": {},
   "outputs": [
    {
     "name": "stdout",
     "output_type": "stream",
     "text": [
      "--2020-07-19 07:23:54--  ftp://ngs.sanger.ac.uk/production/ag1000g/phase2/AR1/samples/samples.meta.txt\n",
      "           => ‘samples.meta.txt’\n",
      "Resolving ngs.sanger.ac.uk (ngs.sanger.ac.uk)... 193.62.203.79\n",
      "Connecting to ngs.sanger.ac.uk (ngs.sanger.ac.uk)|193.62.203.79|:21... connected.\n",
      "Logging in as anonymous ... Logged in!\n",
      "==> SYST ... done.    ==> PWD ... done.\n",
      "==> TYPE I ... done.  ==> CWD (1) /production/ag1000g/phase2/AR1/samples ... done.\n",
      "==> SIZE samples.meta.txt ... 150452\n",
      "==> PASV ... done.    ==> RETR samples.meta.txt ... done.\n",
      "Length: 150452 (147K) (unauthoritative)\n",
      "\n",
      "samples.meta.txt    100%[===================>] 146.93K   472KB/s    in 0.3s    \n",
      "\n",
      "2020-07-19 07:23:56 (472 KB/s) - ‘samples.meta.txt’ saved [150452]\n",
      "\n"
     ]
    }
   ],
   "source": [
    "!wget --no-clobber ftp://ngs.sanger.ac.uk/production/ag1000g/phase2/AR1/samples/samples.meta.txt"
   ]
  },
  {
   "cell_type": "code",
   "execution_count": 27,
   "metadata": {},
   "outputs": [
    {
     "data": {
      "text/html": [
       "<div>\n",
       "<style scoped>\n",
       "    .dataframe tbody tr th:only-of-type {\n",
       "        vertical-align: middle;\n",
       "    }\n",
       "\n",
       "    .dataframe tbody tr th {\n",
       "        vertical-align: top;\n",
       "    }\n",
       "\n",
       "    .dataframe thead th {\n",
       "        text-align: right;\n",
       "    }\n",
       "</style>\n",
       "<table border=\"1\" class=\"dataframe\">\n",
       "  <thead>\n",
       "    <tr style=\"text-align: right;\">\n",
       "      <th></th>\n",
       "      <th>ox_code</th>\n",
       "      <th>src_code</th>\n",
       "      <th>population</th>\n",
       "      <th>country</th>\n",
       "      <th>location</th>\n",
       "      <th>site</th>\n",
       "      <th>contributor</th>\n",
       "      <th>contact</th>\n",
       "      <th>year</th>\n",
       "      <th>m_s</th>\n",
       "      <th>sex</th>\n",
       "      <th>n_sequences</th>\n",
       "      <th>mean_coverage</th>\n",
       "      <th>ebi_sample_acc</th>\n",
       "      <th>latitude</th>\n",
       "      <th>longitude</th>\n",
       "    </tr>\n",
       "  </thead>\n",
       "  <tbody>\n",
       "    <tr>\n",
       "      <th>0</th>\n",
       "      <td>AA0040-C</td>\n",
       "      <td>Twifo_Praso__E2</td>\n",
       "      <td>GHcol</td>\n",
       "      <td>Ghana</td>\n",
       "      <td>Twifo Praso</td>\n",
       "      <td>Twifo Praso</td>\n",
       "      <td>David Weetman</td>\n",
       "      <td>David Weetman</td>\n",
       "      <td>2012</td>\n",
       "      <td>M</td>\n",
       "      <td>F</td>\n",
       "      <td>95033368</td>\n",
       "      <td>30.99</td>\n",
       "      <td>ERS311878</td>\n",
       "      <td>5.60858</td>\n",
       "      <td>-1.54926</td>\n",
       "    </tr>\n",
       "    <tr>\n",
       "      <th>1</th>\n",
       "      <td>AA0041-C</td>\n",
       "      <td>Twifo_Praso__H3</td>\n",
       "      <td>GHcol</td>\n",
       "      <td>Ghana</td>\n",
       "      <td>Twifo Praso</td>\n",
       "      <td>Twifo Praso</td>\n",
       "      <td>David Weetman</td>\n",
       "      <td>David Weetman</td>\n",
       "      <td>2012</td>\n",
       "      <td>M</td>\n",
       "      <td>F</td>\n",
       "      <td>95843804</td>\n",
       "      <td>31.70</td>\n",
       "      <td>ERS311886</td>\n",
       "      <td>5.60858</td>\n",
       "      <td>-1.54926</td>\n",
       "    </tr>\n",
       "    <tr>\n",
       "      <th>2</th>\n",
       "      <td>AA0042-C</td>\n",
       "      <td>Takoradi_C7</td>\n",
       "      <td>GHcol</td>\n",
       "      <td>Ghana</td>\n",
       "      <td>Takoradi</td>\n",
       "      <td>Takoradi</td>\n",
       "      <td>David Weetman</td>\n",
       "      <td>David Weetman</td>\n",
       "      <td>2012</td>\n",
       "      <td>M</td>\n",
       "      <td>F</td>\n",
       "      <td>107420666</td>\n",
       "      <td>35.65</td>\n",
       "      <td>ERS311894</td>\n",
       "      <td>4.91217</td>\n",
       "      <td>-1.77397</td>\n",
       "    </tr>\n",
       "    <tr>\n",
       "      <th>3</th>\n",
       "      <td>AA0043-C</td>\n",
       "      <td>Takoradi_H8</td>\n",
       "      <td>GHcol</td>\n",
       "      <td>Ghana</td>\n",
       "      <td>Takoradi</td>\n",
       "      <td>Takoradi</td>\n",
       "      <td>David Weetman</td>\n",
       "      <td>David Weetman</td>\n",
       "      <td>2012</td>\n",
       "      <td>M</td>\n",
       "      <td>F</td>\n",
       "      <td>95993752</td>\n",
       "      <td>29.46</td>\n",
       "      <td>ERS311902</td>\n",
       "      <td>4.91217</td>\n",
       "      <td>-1.77397</td>\n",
       "    </tr>\n",
       "    <tr>\n",
       "      <th>4</th>\n",
       "      <td>AA0044-C</td>\n",
       "      <td>Takoradi_D10</td>\n",
       "      <td>GHcol</td>\n",
       "      <td>Ghana</td>\n",
       "      <td>Takoradi</td>\n",
       "      <td>Takoradi</td>\n",
       "      <td>David Weetman</td>\n",
       "      <td>David Weetman</td>\n",
       "      <td>2012</td>\n",
       "      <td>M</td>\n",
       "      <td>F</td>\n",
       "      <td>103044262</td>\n",
       "      <td>33.67</td>\n",
       "      <td>ERS311910</td>\n",
       "      <td>4.91217</td>\n",
       "      <td>-1.77397</td>\n",
       "    </tr>\n",
       "  </tbody>\n",
       "</table>\n",
       "</div>"
      ],
      "text/plain": [
       "    ox_code         src_code population country     location         site  \\\n",
       "0  AA0040-C  Twifo_Praso__E2      GHcol   Ghana  Twifo Praso  Twifo Praso   \n",
       "1  AA0041-C  Twifo_Praso__H3      GHcol   Ghana  Twifo Praso  Twifo Praso   \n",
       "2  AA0042-C      Takoradi_C7      GHcol   Ghana     Takoradi     Takoradi   \n",
       "3  AA0043-C      Takoradi_H8      GHcol   Ghana     Takoradi     Takoradi   \n",
       "4  AA0044-C     Takoradi_D10      GHcol   Ghana     Takoradi     Takoradi   \n",
       "\n",
       "     contributor        contact  year m_s sex  n_sequences  mean_coverage  \\\n",
       "0  David Weetman  David Weetman  2012   M   F     95033368          30.99   \n",
       "1  David Weetman  David Weetman  2012   M   F     95843804          31.70   \n",
       "2  David Weetman  David Weetman  2012   M   F    107420666          35.65   \n",
       "3  David Weetman  David Weetman  2012   M   F     95993752          29.46   \n",
       "4  David Weetman  David Weetman  2012   M   F    103044262          33.67   \n",
       "\n",
       "  ebi_sample_acc  latitude  longitude  \n",
       "0      ERS311878   5.60858   -1.54926  \n",
       "1      ERS311886   5.60858   -1.54926  \n",
       "2      ERS311894   4.91217   -1.77397  \n",
       "3      ERS311902   4.91217   -1.77397  \n",
       "4      ERS311910   4.91217   -1.77397  "
      ]
     },
     "execution_count": 27,
     "metadata": {},
     "output_type": "execute_result"
    }
   ],
   "source": [
    "df_samples = pd.read_csv('samples.meta.txt', sep='\\t')\n",
    "df_samples.head()"
   ]
  },
  {
   "cell_type": "code",
   "execution_count": null,
   "metadata": {},
   "outputs": [],
   "source": []
  }
 ],
 "metadata": {
  "kernelspec": {
   "display_name": "Python [conda env:root] *",
   "language": "python",
   "name": "conda-root-py"
  },
  "language_info": {
   "codemirror_mode": {
    "name": "ipython",
    "version": 3
   },
   "file_extension": ".py",
   "mimetype": "text/x-python",
   "name": "python",
   "nbconvert_exporter": "python",
   "pygments_lexer": "ipython3",
   "version": "3.7.6"
  }
 },
 "nbformat": 4,
 "nbformat_minor": 4
}
